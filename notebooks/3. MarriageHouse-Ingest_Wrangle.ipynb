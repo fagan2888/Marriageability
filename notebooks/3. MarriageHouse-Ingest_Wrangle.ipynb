{
 "cells": [
  {
   "cell_type": "markdown",
   "metadata": {},
   "source": [
    "# Marriageability\n",
    "## Exploratory Data Analysis\n",
    "\n",
    "### 2013-2017 ACS 1-year Public Use Microdata Samples (PUMS)\n",
    "### US Housing Records"
   ]
  },
  {
   "cell_type": "code",
   "execution_count": 1,
   "metadata": {},
   "outputs": [],
   "source": [
    "import numpy as np # linear algebra\n",
    "import pandas as pd # data processing\n",
    "from scipy import stats\n",
    "\n",
    "import seaborn as sns\n",
    "import matplotlib.pyplot as plt\n",
    "\n",
    "%matplotlib inline"
   ]
  },
  {
   "cell_type": "markdown",
   "metadata": {},
   "source": [
    "## Ingestion"
   ]
  },
  {
   "cell_type": "markdown",
   "metadata": {},
   "source": [
    "Using relevant variables from the Household survey: we create a smaller table with RT, SERIALNO, WGTP, HHT, PARTNER, SSMC, so that we can analyze the relationship between marriage/cohabitation/samesex and technology and family ties. For full description see [data dictionary](https://www2.census.gov/programs-surveys/acs/tech_docs/pums/data_dict/PUMS_Data_Dictionary_2013-2017.txt).\n",
    "\n",
    "ID variables:\n",
    "1. RT Record type (H for Housing)\n",
    "2. SERIALNO Serial number\n",
    "3. WGTP Weight\n",
    "4. HHT Household/family type\n",
    "5. PARTNER Unmarried partner household\n",
    "6. SSMC Same sex married couple\n",
    "7. TYPE Type of unit\n",
    "\n",
    "Technology variables: \n",
    "8. ACCESS Access to the Internet \n",
    "9. BROADBND Cellular data plan for a smartphone or other mobile device \n",
    "10. SMARTPHONE Smartphone \n",
    "11. VEH Vehicles available at location\n",
    "\n",
    "Family fariables: \n",
    "12. FPARC Family presence and age of related children\n",
    "13. MULTG Multigenerational household\n",
    "14. HHL Household language"
   ]
  },
  {
   "cell_type": "code",
   "execution_count": 2,
   "metadata": {},
   "outputs": [],
   "source": [
    "#Option 1: Importing ACS csv data files \n",
    "fields = ['RT', 'SERIALNO', 'WGTP', 'HHT', 'PARTNER', 'SSMC',\\\n",
    "            'DIVISION', 'REGION', 'ST', 'PUMA', 'NP', 'TYPE',\\\n",
    "            'ADJHSG', 'ADJINC', 'HINCP', 'FINCP', 'GRNTP', 'GRPIP',\\\n",
    "            'FES', 'WKEXREL', 'WORKSTAT',\\\n",
    "            'ACCESS', 'BROADBND', 'HISPEED', 'SMARTPHONE', 'VEH',\\\n",
    "            'FPARC', 'MULTG', 'HHL']\n",
    "\n",
    "acs3 = pd.read_csv(\"../data/household/psam_husa1yr.csv\", sep=',', skipinitialspace=True, header=0, usecols=fields)\n",
    "acs4 = pd.read_csv(\"../data/household/psam_husb1yr.csv\", sep=',', skipinitialspace=True, header=0, usecols=fields)"
   ]
  },
  {
   "cell_type": "code",
   "execution_count": 3,
   "metadata": {},
   "outputs": [
    {
     "name": "stdout",
     "output_type": "stream",
     "text": [
      "  RT       SERIALNO  DIVISION  PUMA  REGION  ST   ADJHSG   ADJINC  WGTP  NP  \\\n",
      "0  H  2017000000016         6  2500       3   1  1000000  1011189   206   1   \n",
      "1  H  2017000000031         6  1800       3   1  1000000  1011189    45   1   \n",
      "2  H  2017000000061         6  2400       3   1  1000000  1011189   136   3   \n",
      "3  H  2017000000158         6  2500       3   1  1000000  1011189    19   5   \n",
      "4  H  2017000000159         6   500       3   1  1000000  1011189    21   3   \n",
      "\n",
      "   ...  GRNTP  GRPIP  HHL  HHT     HINCP  MULTG  PARTNER  SSMC  WKEXREL  \\\n",
      "0  ...    NaN    NaN  1.0  4.0   10000.0    1.0      0.0   0.0      NaN   \n",
      "1  ...  400.0   12.0  1.0  6.0   38500.0    1.0      0.0   0.0      NaN   \n",
      "2  ...    NaN    NaN  1.0  1.0   90700.0    1.0      0.0   0.0      3.0   \n",
      "3  ...  720.0   32.0  1.0  3.0   27100.0    1.0      0.0   0.0     14.0   \n",
      "4  ...    NaN    NaN  2.0  1.0  122000.0    1.0      0.0   0.0      1.0   \n",
      "\n",
      "   WORKSTAT  \n",
      "0       NaN  \n",
      "1       NaN  \n",
      "2       3.0  \n",
      "3      13.0  \n",
      "4       1.0  \n",
      "\n",
      "[5 rows x 29 columns]\n"
     ]
    },
    {
     "data": {
      "text/plain": [
       "(1524620, 29)"
      ]
     },
     "execution_count": 3,
     "metadata": {},
     "output_type": "execute_result"
    }
   ],
   "source": [
    "ACSdatahouse = pd.concat([acs3, acs4], axis=0, ignore_index=False)\n",
    "print(ACSdatahouse.head())\n",
    "ACSdatahouse.shape"
   ]
  },
  {
   "cell_type": "code",
   "execution_count": 4,
   "metadata": {},
   "outputs": [
    {
     "name": "stdout",
     "output_type": "stream",
     "text": [
      "There are 1524620 instances and 29 features\n"
     ]
    }
   ],
   "source": [
    "print(f'There are {ACSdatahouse.shape[0]} instances and {ACSdatahouse.shape[1]} features')"
   ]
  },
  {
   "cell_type": "code",
   "execution_count": 5,
   "metadata": {
    "scrolled": true
   },
   "outputs": [
    {
     "data": {
      "text/html": [
       "<div>\n",
       "<style scoped>\n",
       "    .dataframe tbody tr th:only-of-type {\n",
       "        vertical-align: middle;\n",
       "    }\n",
       "\n",
       "    .dataframe tbody tr th {\n",
       "        vertical-align: top;\n",
       "    }\n",
       "\n",
       "    .dataframe thead th {\n",
       "        text-align: right;\n",
       "    }\n",
       "</style>\n",
       "<table border=\"1\" class=\"dataframe\">\n",
       "  <thead>\n",
       "    <tr style=\"text-align: right;\">\n",
       "      <th></th>\n",
       "      <th>SERIALNO</th>\n",
       "      <th>DIVISION</th>\n",
       "      <th>PUMA</th>\n",
       "      <th>REGION</th>\n",
       "      <th>ST</th>\n",
       "      <th>ADJHSG</th>\n",
       "      <th>ADJINC</th>\n",
       "      <th>WGTP</th>\n",
       "      <th>NP</th>\n",
       "      <th>TYPE</th>\n",
       "      <th>...</th>\n",
       "      <th>GRNTP</th>\n",
       "      <th>GRPIP</th>\n",
       "      <th>HHL</th>\n",
       "      <th>HHT</th>\n",
       "      <th>HINCP</th>\n",
       "      <th>MULTG</th>\n",
       "      <th>PARTNER</th>\n",
       "      <th>SSMC</th>\n",
       "      <th>WKEXREL</th>\n",
       "      <th>WORKSTAT</th>\n",
       "    </tr>\n",
       "  </thead>\n",
       "  <tbody>\n",
       "    <tr>\n",
       "      <th>count</th>\n",
       "      <td>1.524620e+06</td>\n",
       "      <td>1.524620e+06</td>\n",
       "      <td>1.524620e+06</td>\n",
       "      <td>1.524620e+06</td>\n",
       "      <td>1.524620e+06</td>\n",
       "      <td>1524620.0</td>\n",
       "      <td>1524620.0</td>\n",
       "      <td>1.524620e+06</td>\n",
       "      <td>1.524620e+06</td>\n",
       "      <td>1.524620e+06</td>\n",
       "      <td>...</td>\n",
       "      <td>349234.000000</td>\n",
       "      <td>341398.000000</td>\n",
       "      <td>1.243840e+06</td>\n",
       "      <td>1.243840e+06</td>\n",
       "      <td>1.243840e+06</td>\n",
       "      <td>1.243840e+06</td>\n",
       "      <td>1.243840e+06</td>\n",
       "      <td>1.243840e+06</td>\n",
       "      <td>825248.000000</td>\n",
       "      <td>818944.00000</td>\n",
       "    </tr>\n",
       "    <tr>\n",
       "      <th>mean</th>\n",
       "      <td>2.017001e+12</td>\n",
       "      <td>5.134476e+00</td>\n",
       "      <td>4.465417e+03</td>\n",
       "      <td>2.638597e+00</td>\n",
       "      <td>2.786385e+01</td>\n",
       "      <td>1000000.0</td>\n",
       "      <td>1011189.0</td>\n",
       "      <td>9.012561e+01</td>\n",
       "      <td>2.092351e+00</td>\n",
       "      <td>1.150677e+00</td>\n",
       "      <td>...</td>\n",
       "      <td>1137.387623</td>\n",
       "      <td>38.253613</td>\n",
       "      <td>1.336011e+00</td>\n",
       "      <td>2.705198e+00</td>\n",
       "      <td>8.599416e+04</td>\n",
       "      <td>1.037501e+00</td>\n",
       "      <td>1.679348e-01</td>\n",
       "      <td>9.999678e-03</td>\n",
       "      <td>6.306307</td>\n",
       "      <td>5.82170</td>\n",
       "    </tr>\n",
       "    <tr>\n",
       "      <th>std</th>\n",
       "      <td>4.436890e+05</td>\n",
       "      <td>2.473857e+00</td>\n",
       "      <td>9.152828e+03</td>\n",
       "      <td>1.012550e+00</td>\n",
       "      <td>1.592516e+01</td>\n",
       "      <td>0.0</td>\n",
       "      <td>0.0</td>\n",
       "      <td>8.033777e+01</td>\n",
       "      <td>1.500080e+00</td>\n",
       "      <td>4.814807e-01</td>\n",
       "      <td>...</td>\n",
       "      <td>649.256618</td>\n",
       "      <td>26.976938</td>\n",
       "      <td>8.063748e-01</td>\n",
       "      <td>2.026622e+00</td>\n",
       "      <td>9.425427e+04</td>\n",
       "      <td>1.899856e-01</td>\n",
       "      <td>7.262101e-01</td>\n",
       "      <td>1.405799e-01</td>\n",
       "      <td>4.600305</td>\n",
       "      <td>4.85582</td>\n",
       "    </tr>\n",
       "    <tr>\n",
       "      <th>min</th>\n",
       "      <td>2.017000e+12</td>\n",
       "      <td>1.000000e+00</td>\n",
       "      <td>1.000000e+02</td>\n",
       "      <td>1.000000e+00</td>\n",
       "      <td>1.000000e+00</td>\n",
       "      <td>1000000.0</td>\n",
       "      <td>1011189.0</td>\n",
       "      <td>0.000000e+00</td>\n",
       "      <td>0.000000e+00</td>\n",
       "      <td>1.000000e+00</td>\n",
       "      <td>...</td>\n",
       "      <td>4.000000</td>\n",
       "      <td>1.000000</td>\n",
       "      <td>1.000000e+00</td>\n",
       "      <td>1.000000e+00</td>\n",
       "      <td>-1.620000e+04</td>\n",
       "      <td>1.000000e+00</td>\n",
       "      <td>0.000000e+00</td>\n",
       "      <td>0.000000e+00</td>\n",
       "      <td>1.000000</td>\n",
       "      <td>1.00000</td>\n",
       "    </tr>\n",
       "    <tr>\n",
       "      <th>25%</th>\n",
       "      <td>2.017000e+12</td>\n",
       "      <td>3.000000e+00</td>\n",
       "      <td>8.030000e+02</td>\n",
       "      <td>2.000000e+00</td>\n",
       "      <td>1.200000e+01</td>\n",
       "      <td>1000000.0</td>\n",
       "      <td>1011189.0</td>\n",
       "      <td>4.100000e+01</td>\n",
       "      <td>1.000000e+00</td>\n",
       "      <td>1.000000e+00</td>\n",
       "      <td>...</td>\n",
       "      <td>700.000000</td>\n",
       "      <td>19.000000</td>\n",
       "      <td>1.000000e+00</td>\n",
       "      <td>1.000000e+00</td>\n",
       "      <td>3.030000e+04</td>\n",
       "      <td>1.000000e+00</td>\n",
       "      <td>0.000000e+00</td>\n",
       "      <td>0.000000e+00</td>\n",
       "      <td>2.000000</td>\n",
       "      <td>1.00000</td>\n",
       "    </tr>\n",
       "    <tr>\n",
       "      <th>50%</th>\n",
       "      <td>2.017001e+12</td>\n",
       "      <td>5.000000e+00</td>\n",
       "      <td>2.002000e+03</td>\n",
       "      <td>3.000000e+00</td>\n",
       "      <td>2.700000e+01</td>\n",
       "      <td>1000000.0</td>\n",
       "      <td>1011189.0</td>\n",
       "      <td>7.100000e+01</td>\n",
       "      <td>2.000000e+00</td>\n",
       "      <td>1.000000e+00</td>\n",
       "      <td>...</td>\n",
       "      <td>1000.000000</td>\n",
       "      <td>29.000000</td>\n",
       "      <td>1.000000e+00</td>\n",
       "      <td>1.000000e+00</td>\n",
       "      <td>6.060000e+04</td>\n",
       "      <td>1.000000e+00</td>\n",
       "      <td>0.000000e+00</td>\n",
       "      <td>0.000000e+00</td>\n",
       "      <td>6.000000</td>\n",
       "      <td>3.00000</td>\n",
       "    </tr>\n",
       "    <tr>\n",
       "      <th>75%</th>\n",
       "      <td>2.017001e+12</td>\n",
       "      <td>7.000000e+00</td>\n",
       "      <td>4.003000e+03</td>\n",
       "      <td>3.000000e+00</td>\n",
       "      <td>4.200000e+01</td>\n",
       "      <td>1000000.0</td>\n",
       "      <td>1011189.0</td>\n",
       "      <td>1.150000e+02</td>\n",
       "      <td>3.000000e+00</td>\n",
       "      <td>1.000000e+00</td>\n",
       "      <td>...</td>\n",
       "      <td>1430.000000</td>\n",
       "      <td>49.000000</td>\n",
       "      <td>1.000000e+00</td>\n",
       "      <td>4.000000e+00</td>\n",
       "      <td>1.075125e+05</td>\n",
       "      <td>1.000000e+00</td>\n",
       "      <td>0.000000e+00</td>\n",
       "      <td>0.000000e+00</td>\n",
       "      <td>9.000000</td>\n",
       "      <td>9.00000</td>\n",
       "    </tr>\n",
       "    <tr>\n",
       "      <th>max</th>\n",
       "      <td>2.017002e+12</td>\n",
       "      <td>9.000000e+00</td>\n",
       "      <td>7.030100e+04</td>\n",
       "      <td>4.000000e+00</td>\n",
       "      <td>5.600000e+01</td>\n",
       "      <td>1000000.0</td>\n",
       "      <td>1011189.0</td>\n",
       "      <td>1.664000e+03</td>\n",
       "      <td>2.000000e+01</td>\n",
       "      <td>3.000000e+00</td>\n",
       "      <td>...</td>\n",
       "      <td>5022.000000</td>\n",
       "      <td>101.000000</td>\n",
       "      <td>5.000000e+00</td>\n",
       "      <td>7.000000e+00</td>\n",
       "      <td>3.209000e+06</td>\n",
       "      <td>2.000000e+00</td>\n",
       "      <td>4.000000e+00</td>\n",
       "      <td>2.000000e+00</td>\n",
       "      <td>15.000000</td>\n",
       "      <td>15.00000</td>\n",
       "    </tr>\n",
       "  </tbody>\n",
       "</table>\n",
       "<p>8 rows × 28 columns</p>\n",
       "</div>"
      ],
      "text/plain": [
       "           SERIALNO      DIVISION          PUMA        REGION            ST  \\\n",
       "count  1.524620e+06  1.524620e+06  1.524620e+06  1.524620e+06  1.524620e+06   \n",
       "mean   2.017001e+12  5.134476e+00  4.465417e+03  2.638597e+00  2.786385e+01   \n",
       "std    4.436890e+05  2.473857e+00  9.152828e+03  1.012550e+00  1.592516e+01   \n",
       "min    2.017000e+12  1.000000e+00  1.000000e+02  1.000000e+00  1.000000e+00   \n",
       "25%    2.017000e+12  3.000000e+00  8.030000e+02  2.000000e+00  1.200000e+01   \n",
       "50%    2.017001e+12  5.000000e+00  2.002000e+03  3.000000e+00  2.700000e+01   \n",
       "75%    2.017001e+12  7.000000e+00  4.003000e+03  3.000000e+00  4.200000e+01   \n",
       "max    2.017002e+12  9.000000e+00  7.030100e+04  4.000000e+00  5.600000e+01   \n",
       "\n",
       "          ADJHSG     ADJINC          WGTP            NP          TYPE  ...  \\\n",
       "count  1524620.0  1524620.0  1.524620e+06  1.524620e+06  1.524620e+06  ...   \n",
       "mean   1000000.0  1011189.0  9.012561e+01  2.092351e+00  1.150677e+00  ...   \n",
       "std          0.0        0.0  8.033777e+01  1.500080e+00  4.814807e-01  ...   \n",
       "min    1000000.0  1011189.0  0.000000e+00  0.000000e+00  1.000000e+00  ...   \n",
       "25%    1000000.0  1011189.0  4.100000e+01  1.000000e+00  1.000000e+00  ...   \n",
       "50%    1000000.0  1011189.0  7.100000e+01  2.000000e+00  1.000000e+00  ...   \n",
       "75%    1000000.0  1011189.0  1.150000e+02  3.000000e+00  1.000000e+00  ...   \n",
       "max    1000000.0  1011189.0  1.664000e+03  2.000000e+01  3.000000e+00  ...   \n",
       "\n",
       "               GRNTP          GRPIP           HHL           HHT         HINCP  \\\n",
       "count  349234.000000  341398.000000  1.243840e+06  1.243840e+06  1.243840e+06   \n",
       "mean     1137.387623      38.253613  1.336011e+00  2.705198e+00  8.599416e+04   \n",
       "std       649.256618      26.976938  8.063748e-01  2.026622e+00  9.425427e+04   \n",
       "min         4.000000       1.000000  1.000000e+00  1.000000e+00 -1.620000e+04   \n",
       "25%       700.000000      19.000000  1.000000e+00  1.000000e+00  3.030000e+04   \n",
       "50%      1000.000000      29.000000  1.000000e+00  1.000000e+00  6.060000e+04   \n",
       "75%      1430.000000      49.000000  1.000000e+00  4.000000e+00  1.075125e+05   \n",
       "max      5022.000000     101.000000  5.000000e+00  7.000000e+00  3.209000e+06   \n",
       "\n",
       "              MULTG       PARTNER          SSMC        WKEXREL      WORKSTAT  \n",
       "count  1.243840e+06  1.243840e+06  1.243840e+06  825248.000000  818944.00000  \n",
       "mean   1.037501e+00  1.679348e-01  9.999678e-03       6.306307       5.82170  \n",
       "std    1.899856e-01  7.262101e-01  1.405799e-01       4.600305       4.85582  \n",
       "min    1.000000e+00  0.000000e+00  0.000000e+00       1.000000       1.00000  \n",
       "25%    1.000000e+00  0.000000e+00  0.000000e+00       2.000000       1.00000  \n",
       "50%    1.000000e+00  0.000000e+00  0.000000e+00       6.000000       3.00000  \n",
       "75%    1.000000e+00  0.000000e+00  0.000000e+00       9.000000       9.00000  \n",
       "max    2.000000e+00  4.000000e+00  2.000000e+00      15.000000      15.00000  \n",
       "\n",
       "[8 rows x 28 columns]"
      ]
     },
     "execution_count": 5,
     "metadata": {},
     "output_type": "execute_result"
    }
   ],
   "source": [
    "# looking for missing values\n",
    "\n",
    "ACSdatahouse.describe()"
   ]
  },
  {
   "cell_type": "markdown",
   "metadata": {},
   "source": [
    "Some features have missings, careful when coding!"
   ]
  },
  {
   "cell_type": "markdown",
   "metadata": {},
   "source": [
    "## Wrangling and EDA"
   ]
  },
  {
   "cell_type": "markdown",
   "metadata": {},
   "source": [
    "**Analyzing marital status variables**: we need a feature that can identify 3 categories: not married, married heterosexual, married same sex; keeping missings. "
   ]
  },
  {
   "cell_type": "code",
   "execution_count": 6,
   "metadata": {},
   "outputs": [
    {
     "data": {
      "text/plain": [
       "count    1.243840e+06\n",
       "mean     2.705198e+00\n",
       "std      2.026622e+00\n",
       "min      1.000000e+00\n",
       "25%      1.000000e+00\n",
       "50%      1.000000e+00\n",
       "75%      4.000000e+00\n",
       "max      7.000000e+00\n",
       "Name: HHT, dtype: float64"
      ]
     },
     "execution_count": 6,
     "metadata": {},
     "output_type": "execute_result"
    }
   ],
   "source": [
    "# looking at HHT\n",
    "ACSdatahouse['HHT'].describe()\n"
   ]
  },
  {
   "cell_type": "code",
   "execution_count": 7,
   "metadata": {},
   "outputs": [
    {
     "data": {
      "text/plain": [
       "array([ 4.,  6.,  1.,  3.,  5., nan,  2.,  7.])"
      ]
     },
     "execution_count": 7,
     "metadata": {},
     "output_type": "execute_result"
    }
   ],
   "source": [
    "# HHT has 7 categories, we only need (0,1) = (not married, married couple household)\n",
    "\n",
    "ACSdatahouse['HHT'].unique()"
   ]
  },
  {
   "cell_type": "code",
   "execution_count": 8,
   "metadata": {},
   "outputs": [],
   "source": [
    "# creating new column with (0,1) = (not married, married couple household); keeping the missing values\n",
    "\n",
    "ACSdatahouse['married'] = np.where(ACSdatahouse['HHT'].isnull(), np.nan,\\\n",
    "                                      np.where(ACSdatahouse['HHT'] == 1, 1, 0))"
   ]
  },
  {
   "cell_type": "code",
   "execution_count": 9,
   "metadata": {},
   "outputs": [
    {
     "data": {
      "text/plain": [
       "array([ 0.,  1., nan])"
      ]
     },
     "execution_count": 9,
     "metadata": {},
     "output_type": "execute_result"
    }
   ],
   "source": [
    "ACSdatahouse['married'].unique()"
   ]
  },
  {
   "cell_type": "code",
   "execution_count": 10,
   "metadata": {},
   "outputs": [
    {
     "data": {
      "text/plain": [
       "array([ 0., nan,  2.,  1.])"
      ]
     },
     "execution_count": 10,
     "metadata": {},
     "output_type": "execute_result"
    }
   ],
   "source": [
    "# We also need to know same sex married couple households from SSMC\n",
    "\n",
    "ACSdatahouse['SSMC'].unique()"
   ]
  },
  {
   "cell_type": "code",
   "execution_count": 11,
   "metadata": {},
   "outputs": [],
   "source": [
    "# creating new column with (0,1) = (not same sex, same sex married couple household)\n",
    "\n",
    "ACSdatahouse['samesex'] = np.where(ACSdatahouse['SSMC'].isnull(), np.nan,\\\n",
    "                                      np.where(ACSdatahouse['SSMC'] > 0, 1, 0))"
   ]
  },
  {
   "cell_type": "code",
   "execution_count": 12,
   "metadata": {},
   "outputs": [
    {
     "data": {
      "text/plain": [
       "count    1.243840e+06\n",
       "mean     5.068176e-03\n",
       "std      7.101052e-02\n",
       "min      0.000000e+00\n",
       "25%      0.000000e+00\n",
       "50%      0.000000e+00\n",
       "75%      0.000000e+00\n",
       "max      1.000000e+00\n",
       "Name: samesex, dtype: float64"
      ]
     },
     "execution_count": 12,
     "metadata": {},
     "output_type": "execute_result"
    }
   ],
   "source": [
    "ACSdatahouse['samesex'].describe()"
   ]
  },
  {
   "cell_type": "code",
   "execution_count": 13,
   "metadata": {},
   "outputs": [
    {
     "data": {
      "text/plain": [
       "array([ 0., nan,  1.])"
      ]
     },
     "execution_count": 13,
     "metadata": {},
     "output_type": "execute_result"
    }
   ],
   "source": [
    "ACSdatahouse['samesex'].unique()"
   ]
  },
  {
   "cell_type": "code",
   "execution_count": 14,
   "metadata": {},
   "outputs": [],
   "source": [
    "# married_type = (0,1,2) = (not married, married heterosexual, married same sex)\n",
    "\n",
    "ACSdatahouse['marital_status_house'] = np.where(ACSdatahouse['married'].isnull(), np.nan,\\\n",
    "                                           np.where(ACSdatahouse['married']== 0, 0,\\\n",
    "                                                    np.where(ACSdatahouse['samesex']== 0, 1, 2)))"
   ]
  },
  {
   "cell_type": "code",
   "execution_count": 15,
   "metadata": {},
   "outputs": [
    {
     "name": "stdout",
     "output_type": "stream",
     "text": [
      "1.0    627673\n",
      "0.0    609863\n",
      "2.0      6304\n",
      "Name: marital_status_house, dtype: int64\n"
     ]
    }
   ],
   "source": [
    "married_count = ACSdatahouse['marital_status_house'].value_counts()\n",
    "print(married_count)"
   ]
  },
  {
   "cell_type": "code",
   "execution_count": 16,
   "metadata": {
    "scrolled": true
   },
   "outputs": [
    {
     "data": {
      "image/png": "[encoded data removed]",
      "text/plain": [
       "<Figure size 432x288 with 1 Axes>"
      ]
     },
     "metadata": {
      "needs_background": "light"
     },
     "output_type": "display_data"
    }
   ],
   "source": [
    "objects = ('Married', 'Not married', 'Same Sex')\n",
    "y_pos = np.arange(len(objects))\n",
    "\n",
    "plt.bar(y_pos, married_count, align='center', alpha=0.5)\n",
    "plt.xticks(y_pos, objects)\n",
    "plt.ylabel('Frequency')\n",
    "plt.title('Marital Status by Household')\n",
    "\n",
    "plt.show()"
   ]
  },
  {
   "cell_type": "markdown",
   "metadata": {},
   "source": [
    "Same sex households are so few, will add them back to married couple households."
   ]
  },
  {
   "cell_type": "code",
   "execution_count": 17,
   "metadata": {},
   "outputs": [],
   "source": [
    "# married_type = (0,1,2) = (not married, married heterosexual, married same sex)\n",
    "\n",
    "ACSdatahouse['marital_status'] = np.where(ACSdatahouse['marital_status_house'].isnull(), np.nan,\\\n",
    "                                           np.where(ACSdatahouse['marital_status_house']== 0, 0, 1))\n"
   ]
  },
  {
   "cell_type": "code",
   "execution_count": 18,
   "metadata": {},
   "outputs": [
    {
     "name": "stdout",
     "output_type": "stream",
     "text": [
      "1.0    633977\n",
      "0.0    609863\n",
      "Name: marital_status, dtype: int64\n"
     ]
    }
   ],
   "source": [
    "married_count = ACSdatahouse['marital_status'].value_counts()\n",
    "print(married_count)"
   ]
  },
  {
   "cell_type": "markdown",
   "metadata": {},
   "source": [
    "**Analyzing family related variables**: First, recode FPARC, MULTG and HHL. Then create smaller table to find correlation between married_type and whether there are kids in the family, multigenerational household and language."
   ]
  },
  {
   "cell_type": "code",
   "execution_count": 30,
   "metadata": {},
   "outputs": [
    {
     "data": {
      "text/plain": [
       "count    825248.000000\n",
       "mean          3.167317\n",
       "std           1.056349\n",
       "min           1.000000\n",
       "25%           2.000000\n",
       "50%           4.000000\n",
       "75%           4.000000\n",
       "max           4.000000\n",
       "Name: FPARC, dtype: float64"
      ]
     },
     "execution_count": 30,
     "metadata": {},
     "output_type": "execute_result"
    }
   ],
   "source": [
    "# recoding FPARC = Family presence and age of related children\n",
    "\n",
    "ACSdatahouse['FPARC'].describe()"
   ]
  },
  {
   "cell_type": "code",
   "execution_count": 31,
   "metadata": {},
   "outputs": [
    {
     "data": {
      "text/plain": [
       "array([nan,  2.,  3.,  1.,  4.])"
      ]
     },
     "execution_count": 31,
     "metadata": {},
     "output_type": "execute_result"
    }
   ],
   "source": [
    "ACSdatahouse['FPARC'].unique()"
   ]
  },
  {
   "cell_type": "code",
   "execution_count": 32,
   "metadata": {},
   "outputs": [],
   "source": [
    "# family = (0,1) = (no related children, related children)\n",
    "\n",
    "ACSdatahouse['family'] = np.where(ACSdatahouse['FPARC'].isnull(), np.nan,\\\n",
    "                                     np.where(ACSdatahouse['FPARC'] == 4, 0, 1))"
   ]
  },
  {
   "cell_type": "code",
   "execution_count": 33,
   "metadata": {},
   "outputs": [
    {
     "data": {
      "text/plain": [
       "0.0    480118\n",
       "1.0    345130\n",
       "Name: family, dtype: int64"
      ]
     },
     "execution_count": 33,
     "metadata": {},
     "output_type": "execute_result"
    }
   ],
   "source": [
    "ACSdatahouse['family'].value_counts()"
   ]
  },
  {
   "cell_type": "code",
   "execution_count": 34,
   "metadata": {},
   "outputs": [
    {
     "data": {
      "text/plain": [
       "count    1.243840e+06\n",
       "mean     1.037501e+00\n",
       "std      1.899856e-01\n",
       "min      1.000000e+00\n",
       "25%      1.000000e+00\n",
       "50%      1.000000e+00\n",
       "75%      1.000000e+00\n",
       "max      2.000000e+00\n",
       "Name: MULTG, dtype: float64"
      ]
     },
     "execution_count": 34,
     "metadata": {},
     "output_type": "execute_result"
    }
   ],
   "source": [
    "# recoding MULTG to (0,1) = (not multigenerational household, multigenerational household)\n",
    "\n",
    "ACSdatahouse['MULTG'].describe()"
   ]
  },
  {
   "cell_type": "code",
   "execution_count": 35,
   "metadata": {},
   "outputs": [],
   "source": [
    "ACSdatahouse['multigen'] = np.where(ACSdatahouse['MULTG'].isnull(), np.nan,\\\n",
    "                                       np.where(ACSdatahouse['MULTG'] == 1, 0, 1))"
   ]
  },
  {
   "cell_type": "code",
   "execution_count": 36,
   "metadata": {},
   "outputs": [
    {
     "data": {
      "text/plain": [
       "0.0    1197195\n",
       "1.0      46645\n",
       "Name: multigen, dtype: int64"
      ]
     },
     "execution_count": 36,
     "metadata": {},
     "output_type": "execute_result"
    }
   ],
   "source": [
    "ACSdatahouse['multigen'].value_counts()"
   ]
  },
  {
   "cell_type": "code",
   "execution_count": 37,
   "metadata": {},
   "outputs": [],
   "source": [
    "# recoding language (1,2,3) = (english, spanish, other)\n",
    "\n",
    "ACSdatahouse['language'] = np.where(ACSdatahouse['HHL'].isnull(), np.nan,\\\n",
    "                                       np.where(ACSdatahouse['HHL'] == 1, 1,\\\n",
    "                                                np.where(ACSdatahouse['HHL'] == 2, 2, 3)))"
   ]
  },
  {
   "cell_type": "code",
   "execution_count": 38,
   "metadata": {},
   "outputs": [
    {
     "data": {
      "text/plain": [
       "1.0    1006888\n",
       "2.0     127181\n",
       "3.0     109771\n",
       "Name: language, dtype: int64"
      ]
     },
     "execution_count": 38,
     "metadata": {},
     "output_type": "execute_result"
    }
   ],
   "source": [
    "ACSdatahouse['language'].value_counts()"
   ]
  },
  {
   "cell_type": "code",
   "execution_count": 39,
   "metadata": {},
   "outputs": [],
   "source": [
    "household_family = ACSdatahouse[['marital_status', 'family', 'multigen', 'language']]"
   ]
  },
  {
   "cell_type": "code",
   "execution_count": 40,
   "metadata": {},
   "outputs": [
    {
     "data": {
      "text/plain": [
       "<matplotlib.axes._subplots.AxesSubplot at 0x23e01b3acc0>"
      ]
     },
     "execution_count": 40,
     "metadata": {},
     "output_type": "execute_result"
    },
    {
     "data": {
      "image/png": "[encoded data removed]",
      "text/plain": [
       "<Figure size 720x576 with 2 Axes>"
      ]
     },
     "metadata": {
      "needs_background": "light"
     },
     "output_type": "display_data"
    }
   ],
   "source": [
    "f, ax = plt.subplots(figsize=(10, 8))\n",
    "corr = household_family.corr()\n",
    "sns.heatmap(corr, mask=np.zeros_like(corr, dtype=np.bool), cmap=sns.diverging_palette(220, 10, as_cmap=True),\n",
    "            square=True, ax=ax)"
   ]
  },
  {
   "cell_type": "markdown",
   "metadata": {},
   "source": [
    "Marital status is not correlated with language, multigenerational household or kids in the household."
   ]
  },
  {
   "cell_type": "markdown",
   "metadata": {},
   "source": [
    "**Analyzing technology related variables**: ACCESS', 'BROADBND', 'HISPEED', 'SMARTPHONE', 'VEH' will be transformed into binary. Will create smaller table to find correlation between married_type (not married, married hetero, married same sex) and technology variables."
   ]
  },
  {
   "cell_type": "code",
   "execution_count": 41,
   "metadata": {},
   "outputs": [
    {
     "data": {
      "text/plain": [
       "count    1.243840e+06\n",
       "mean     1.282476e+00\n",
       "std      6.785030e-01\n",
       "min      1.000000e+00\n",
       "25%      1.000000e+00\n",
       "50%      1.000000e+00\n",
       "75%      1.000000e+00\n",
       "max      3.000000e+00\n",
       "Name: ACCESS, dtype: float64"
      ]
     },
     "execution_count": 41,
     "metadata": {},
     "output_type": "execute_result"
    }
   ],
   "source": [
    "# recoding ACCESS\n",
    "\n",
    "ACSdatahouse['ACCESS'].describe()"
   ]
  },
  {
   "cell_type": "code",
   "execution_count": 43,
   "metadata": {},
   "outputs": [
    {
     "data": {
      "text/plain": [
       "array([ 3.,  1., nan,  2.])"
      ]
     },
     "execution_count": 43,
     "metadata": {},
     "output_type": "execute_result"
    }
   ],
   "source": [
    "ACSdatahouse['ACCESS'].unique()"
   ]
  },
  {
   "cell_type": "code",
   "execution_count": 44,
   "metadata": {},
   "outputs": [],
   "source": [
    "# internet access = 1, no internet access = 0\n",
    "\n",
    "ACSdatahouse['internet'] = np.where(ACSdatahouse['ACCESS'].isnull(), np.nan,\\\n",
    "                                     np.where(ACSdatahouse['ACCESS'] == 3, 0, 1))"
   ]
  },
  {
   "cell_type": "code",
   "execution_count": 45,
   "metadata": {},
   "outputs": [
    {
     "data": {
      "text/plain": [
       "1.0    1083582\n",
       "0.0     160258\n",
       "Name: internet, dtype: int64"
      ]
     },
     "execution_count": 45,
     "metadata": {},
     "output_type": "execute_result"
    }
   ],
   "source": [
    "ACSdatahouse['internet'].value_counts()"
   ]
  },
  {
   "cell_type": "code",
   "execution_count": 46,
   "metadata": {},
   "outputs": [
    {
     "data": {
      "text/plain": [
       "count    1.052743e+06\n",
       "mean     1.136721e+00\n",
       "std      3.435527e-01\n",
       "min      1.000000e+00\n",
       "25%      1.000000e+00\n",
       "50%      1.000000e+00\n",
       "75%      1.000000e+00\n",
       "max      2.000000e+00\n",
       "Name: BROADBND, dtype: float64"
      ]
     },
     "execution_count": 46,
     "metadata": {},
     "output_type": "execute_result"
    }
   ],
   "source": [
    "# recoding BROADBND\n",
    "\n",
    "ACSdatahouse['BROADBND'].describe()"
   ]
  },
  {
   "cell_type": "code",
   "execution_count": 47,
   "metadata": {},
   "outputs": [
    {
     "data": {
      "text/plain": [
       "array([nan,  1.,  2.])"
      ]
     },
     "execution_count": 47,
     "metadata": {},
     "output_type": "execute_result"
    }
   ],
   "source": [
    "ACSdatahouse['BROADBND'].unique()"
   ]
  },
  {
   "cell_type": "code",
   "execution_count": 48,
   "metadata": {},
   "outputs": [],
   "source": [
    "# broadband = 1, no broadband = 0\n",
    "\n",
    "ACSdatahouse['broadband'] = np.where(ACSdatahouse['BROADBND'].isnull(), np.nan,\\\n",
    "                                     np.where(ACSdatahouse['BROADBND'] == 2, 0, 1))"
   ]
  },
  {
   "cell_type": "code",
   "execution_count": 49,
   "metadata": {},
   "outputs": [
    {
     "data": {
      "text/plain": [
       "1.0    908811\n",
       "0.0    143932\n",
       "Name: broadband, dtype: int64"
      ]
     },
     "execution_count": 49,
     "metadata": {},
     "output_type": "execute_result"
    }
   ],
   "source": [
    "ACSdatahouse['broadband'].value_counts()"
   ]
  },
  {
   "cell_type": "code",
   "execution_count": 50,
   "metadata": {},
   "outputs": [
    {
     "data": {
      "text/plain": [
       "count    1.243840e+06\n",
       "mean     1.199742e+00\n",
       "std      3.998065e-01\n",
       "min      1.000000e+00\n",
       "25%      1.000000e+00\n",
       "50%      1.000000e+00\n",
       "75%      1.000000e+00\n",
       "max      2.000000e+00\n",
       "Name: SMARTPHONE, dtype: float64"
      ]
     },
     "execution_count": 50,
     "metadata": {},
     "output_type": "execute_result"
    }
   ],
   "source": [
    "# recoding SMARTPHONE\n",
    "\n",
    "ACSdatahouse['SMARTPHONE'].describe()"
   ]
  },
  {
   "cell_type": "code",
   "execution_count": 51,
   "metadata": {},
   "outputs": [
    {
     "data": {
      "text/plain": [
       "array([ 2.,  1., nan])"
      ]
     },
     "execution_count": 51,
     "metadata": {},
     "output_type": "execute_result"
    }
   ],
   "source": [
    "ACSdatahouse['SMARTPHONE'].unique()"
   ]
  },
  {
   "cell_type": "code",
   "execution_count": 52,
   "metadata": {},
   "outputs": [],
   "source": [
    "# smartphone = 1, no smartphone = 0\n",
    "\n",
    "ACSdatahouse['smartphone'] = np.where(ACSdatahouse['SMARTPHONE'].isnull(), np.nan,\\\n",
    "                                     np.where(ACSdatahouse['SMARTPHONE'] == 2, 0, 1))"
   ]
  },
  {
   "cell_type": "code",
   "execution_count": 53,
   "metadata": {},
   "outputs": [
    {
     "data": {
      "text/plain": [
       "1.0    995393\n",
       "0.0    248447\n",
       "Name: smartphone, dtype: int64"
      ]
     },
     "execution_count": 53,
     "metadata": {},
     "output_type": "execute_result"
    }
   ],
   "source": [
    "ACSdatahouse['smartphone'].value_counts()"
   ]
  },
  {
   "cell_type": "code",
   "execution_count": 54,
   "metadata": {},
   "outputs": [
    {
     "data": {
      "text/plain": [
       "count    1.243840e+06\n",
       "mean     1.869480e+00\n",
       "std      1.100383e+00\n",
       "min      0.000000e+00\n",
       "25%      1.000000e+00\n",
       "50%      2.000000e+00\n",
       "75%      2.000000e+00\n",
       "max      6.000000e+00\n",
       "Name: VEH, dtype: float64"
      ]
     },
     "execution_count": 54,
     "metadata": {},
     "output_type": "execute_result"
    }
   ],
   "source": [
    "ACSdatahouse['VEH'].describe()"
   ]
  },
  {
   "cell_type": "code",
   "execution_count": 55,
   "metadata": {},
   "outputs": [
    {
     "data": {
      "text/plain": [
       "array([ 1.,  3.,  6.,  2., nan,  4.,  5.,  0.])"
      ]
     },
     "execution_count": 55,
     "metadata": {},
     "output_type": "execute_result"
    }
   ],
   "source": [
    "ACSdatahouse['VEH'].unique()"
   ]
  },
  {
   "cell_type": "code",
   "execution_count": 56,
   "metadata": {},
   "outputs": [],
   "source": [
    "# has one or more vehicles = 1, no vehicles = 0\n",
    "\n",
    "ACSdatahouse['vehicles'] = np.where(ACSdatahouse['VEH'].isnull(), np.nan,\\\n",
    "                                     np.where(ACSdatahouse['VEH'] == 0, 0, 1))"
   ]
  },
  {
   "cell_type": "code",
   "execution_count": 57,
   "metadata": {},
   "outputs": [
    {
     "data": {
      "text/plain": [
       "1.0    1150819\n",
       "0.0      93021\n",
       "Name: vehicles, dtype: int64"
      ]
     },
     "execution_count": 57,
     "metadata": {},
     "output_type": "execute_result"
    }
   ],
   "source": [
    "ACSdatahouse['vehicles'].value_counts()"
   ]
  },
  {
   "cell_type": "code",
   "execution_count": 58,
   "metadata": {},
   "outputs": [],
   "source": [
    "household_technology = ACSdatahouse[['marital_status', 'internet', 'broadband', 'smartphone', 'vehicles']]"
   ]
  },
  {
   "cell_type": "code",
   "execution_count": 59,
   "metadata": {},
   "outputs": [
    {
     "data": {
      "text/plain": [
       "<matplotlib.axes._subplots.AxesSubplot at 0x23e01c1fe10>"
      ]
     },
     "execution_count": 59,
     "metadata": {},
     "output_type": "execute_result"
    },
    {
     "data": {
      "image/png": "[encoded data removed]",
      "text/plain": [
       "<Figure size 720x576 with 2 Axes>"
      ]
     },
     "metadata": {
      "needs_background": "light"
     },
     "output_type": "display_data"
    }
   ],
   "source": [
    "f, ax = plt.subplots(figsize=(10, 8))\n",
    "corr = household_technology.corr()\n",
    "sns.heatmap(corr, mask=np.zeros_like(corr, dtype=np.bool), cmap=sns.diverging_palette(220, 10, as_cmap=True),\n",
    "            square=True, ax=ax)"
   ]
  },
  {
   "cell_type": "markdown",
   "metadata": {},
   "source": [
    "We observe some correlationbetween internet, broadband and smartphone, but not with marital status."
   ]
  },
  {
   "cell_type": "markdown",
   "metadata": {},
   "source": [
    "## Table to join with population "
   ]
  },
  {
   "cell_type": "code",
   "execution_count": 61,
   "metadata": {},
   "outputs": [],
   "source": [
    "ACShousehold = ACSdatahouse[['RT', 'SERIALNO', 'TYPE',\\\n",
    "                             'marital_status',\\\n",
    "                             'internet', 'broadband', 'smartphone', 'vehicles',\\\n",
    "                             'family', 'multigen', 'language']]"
   ]
  },
  {
   "cell_type": "code",
   "execution_count": 62,
   "metadata": {},
   "outputs": [
    {
     "data": {
      "text/html": [
       "<div>\n",
       "<style scoped>\n",
       "    .dataframe tbody tr th:only-of-type {\n",
       "        vertical-align: middle;\n",
       "    }\n",
       "\n",
       "    .dataframe tbody tr th {\n",
       "        vertical-align: top;\n",
       "    }\n",
       "\n",
       "    .dataframe thead th {\n",
       "        text-align: right;\n",
       "    }\n",
       "</style>\n",
       "<table border=\"1\" class=\"dataframe\">\n",
       "  <thead>\n",
       "    <tr style=\"text-align: right;\">\n",
       "      <th></th>\n",
       "      <th>RT</th>\n",
       "      <th>SERIALNO</th>\n",
       "      <th>TYPE</th>\n",
       "      <th>marital_status</th>\n",
       "      <th>internet</th>\n",
       "      <th>broadband</th>\n",
       "      <th>smartphone</th>\n",
       "      <th>vehicles</th>\n",
       "      <th>family</th>\n",
       "      <th>multigen</th>\n",
       "      <th>language</th>\n",
       "    </tr>\n",
       "  </thead>\n",
       "  <tbody>\n",
       "    <tr>\n",
       "      <th>0</th>\n",
       "      <td>H</td>\n",
       "      <td>2017000000016</td>\n",
       "      <td>1</td>\n",
       "      <td>0.0</td>\n",
       "      <td>0.0</td>\n",
       "      <td>NaN</td>\n",
       "      <td>0.0</td>\n",
       "      <td>1.0</td>\n",
       "      <td>NaN</td>\n",
       "      <td>0.0</td>\n",
       "      <td>1.0</td>\n",
       "    </tr>\n",
       "    <tr>\n",
       "      <th>1</th>\n",
       "      <td>H</td>\n",
       "      <td>2017000000031</td>\n",
       "      <td>1</td>\n",
       "      <td>0.0</td>\n",
       "      <td>1.0</td>\n",
       "      <td>1.0</td>\n",
       "      <td>1.0</td>\n",
       "      <td>1.0</td>\n",
       "      <td>NaN</td>\n",
       "      <td>0.0</td>\n",
       "      <td>1.0</td>\n",
       "    </tr>\n",
       "    <tr>\n",
       "      <th>2</th>\n",
       "      <td>H</td>\n",
       "      <td>2017000000061</td>\n",
       "      <td>1</td>\n",
       "      <td>1.0</td>\n",
       "      <td>1.0</td>\n",
       "      <td>1.0</td>\n",
       "      <td>1.0</td>\n",
       "      <td>1.0</td>\n",
       "      <td>1.0</td>\n",
       "      <td>0.0</td>\n",
       "      <td>1.0</td>\n",
       "    </tr>\n",
       "    <tr>\n",
       "      <th>3</th>\n",
       "      <td>H</td>\n",
       "      <td>2017000000158</td>\n",
       "      <td>1</td>\n",
       "      <td>0.0</td>\n",
       "      <td>1.0</td>\n",
       "      <td>0.0</td>\n",
       "      <td>0.0</td>\n",
       "      <td>1.0</td>\n",
       "      <td>1.0</td>\n",
       "      <td>0.0</td>\n",
       "      <td>1.0</td>\n",
       "    </tr>\n",
       "    <tr>\n",
       "      <th>4</th>\n",
       "      <td>H</td>\n",
       "      <td>2017000000159</td>\n",
       "      <td>1</td>\n",
       "      <td>1.0</td>\n",
       "      <td>1.0</td>\n",
       "      <td>1.0</td>\n",
       "      <td>1.0</td>\n",
       "      <td>1.0</td>\n",
       "      <td>1.0</td>\n",
       "      <td>0.0</td>\n",
       "      <td>2.0</td>\n",
       "    </tr>\n",
       "  </tbody>\n",
       "</table>\n",
       "</div>"
      ],
      "text/plain": [
       "  RT       SERIALNO  TYPE  marital_status  internet  broadband  smartphone  \\\n",
       "0  H  2017000000016     1             0.0       0.0        NaN         0.0   \n",
       "1  H  2017000000031     1             0.0       1.0        1.0         1.0   \n",
       "2  H  2017000000061     1             1.0       1.0        1.0         1.0   \n",
       "3  H  2017000000158     1             0.0       1.0        0.0         0.0   \n",
       "4  H  2017000000159     1             1.0       1.0        1.0         1.0   \n",
       "\n",
       "   vehicles  family  multigen  language  \n",
       "0       1.0     NaN       0.0       1.0  \n",
       "1       1.0     NaN       0.0       1.0  \n",
       "2       1.0     1.0       0.0       1.0  \n",
       "3       1.0     1.0       0.0       1.0  \n",
       "4       1.0     1.0       0.0       2.0  "
      ]
     },
     "execution_count": 62,
     "metadata": {},
     "output_type": "execute_result"
    }
   ],
   "source": [
    "ACShousehold.head()"
   ]
  },
  {
   "cell_type": "code",
   "execution_count": 63,
   "metadata": {},
   "outputs": [],
   "source": [
    "#Exporting ACShousehold to csv\n",
    "ACShousehold.to_csv(r'../data/ACShousehold.csv')"
   ]
  },
  {
   "cell_type": "code",
   "execution_count": 64,
   "metadata": {},
   "outputs": [],
   "source": [
    "##### END OF CODE #####"
   ]
  }
 ],
 "metadata": {
  "kernelspec": {
   "display_name": "Python 3",
   "language": "python",
   "name": "python3"
  },
  "language_info": {
   "codemirror_mode": {
    "name": "ipython",
    "version": 3
   },
   "file_extension": ".py",
   "mimetype": "text/x-python",
   "name": "python",
   "nbconvert_exporter": "python",
   "pygments_lexer": "ipython3",
   "version": "3.7.3"
  }
 },
 "nbformat": 4,
 "nbformat_minor": 2
}
