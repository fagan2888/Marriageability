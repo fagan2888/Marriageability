{
 "cells": [
  {
   "cell_type": "markdown",
   "metadata": {},
   "source": [
    "# Ingestion and Wrangling"
   ]
  },
  {
   "cell_type": "code",
   "execution_count": 1,
   "metadata": {},
   "outputs": [],
   "source": [
    "#Importing Python packages\n",
    "import pandas as pd\n",
    "import numpy as np \n",
    "import seaborn as sns\n",
    "import matplotlib.mlab as mlab\n",
    "import matplotlib.pyplot as plt"
   ]
  },
  {
   "cell_type": "markdown",
   "metadata": {},
   "source": [
    "# INGESTION STEP"
   ]
  },
  {
   "cell_type": "code",
   "execution_count": 2,
   "metadata": {},
   "outputs": [],
   "source": [
    "#Option 1: Read in the original csv files and save in memory"
   ]
  },
  {
   "cell_type": "code",
   "execution_count": 3,
   "metadata": {},
   "outputs": [],
   "source": [
    "#Importing ACS csv data files \n",
    "fields = [\"RT\", \"SERIALNO\", \"SPORDER\",\"PWGTP\",\"CIT\",\"COW\",\"DIVISION\",\"PUMA\",\"ST\",\"REGION\",\"AGEP\",\"ADJINC\",\"JWMNP\",\"JWTR\",\n",
    "          \"MAR\",\"MARHT\",\"MIG\",\"MIL\",\"RELP\",\"SCHL\",\"SEX\",\"PAP\",\"WAGP\",\"WKHP\",\"WRK\",\"DIS\",\"DRIVESP\",\"ESR\",\"FOD1P\",\"HICOV\",\"JWAP\",\n",
    "          \"JWDP\",\"MIGPUMA\",\"MSP\",\"NATIVITY\",\"OC\",\"OCCP\",\"PAOC\",\"PERNP\",\"PINCP\",\"RAC1P\",\"SOCP\",\"FHISP\", \"HISP\", \"NAICSP\", \"PWGTP\"\n",
    "         ]          \n",
    "\n",
    "acs1 = pd.read_csv('data/psam_pusa.csv', sep=',', skipinitialspace=True, header=0, usecols=fields)\n",
    "acs2 = pd.read_csv('data/psam_pusb.csv', sep=',', skipinitialspace=True, header=0, usecols=fields)\n",
    "\n",
    "#print (acs1.head())\n",
    "#print (acs2.head())"
   ]
  },
  {
   "cell_type": "code",
   "execution_count": 4,
   "metadata": {},
   "outputs": [
    {
     "data": {
      "text/plain": [
       "(1638294, 45)"
      ]
     },
     "execution_count": 4,
     "metadata": {},
     "output_type": "execute_result"
    }
   ],
   "source": [
    "acs1.shape"
   ]
  },
  {
   "cell_type": "code",
   "execution_count": 5,
   "metadata": {},
   "outputs": [
    {
     "data": {
      "text/plain": [
       "(1551746, 45)"
      ]
     },
     "execution_count": 5,
     "metadata": {},
     "output_type": "execute_result"
    }
   ],
   "source": [
    "acs2.shape"
   ]
  },
  {
   "cell_type": "code",
   "execution_count": 6,
   "metadata": {},
   "outputs": [
    {
     "name": "stdout",
     "output_type": "stream",
     "text": [
      "  RT       SERIALNO  DIVISION  SPORDER  PUMA  REGION  ST   ADJINC  PWGTP  \\\n",
      "0  P  2017000000016         6        1  2500       3   1  1011189    206   \n",
      "1  P  2017000000031         6        1  1800       3   1  1011189     45   \n",
      "2  P  2017000000061         6        1  2400       3   1  1011189    136   \n",
      "3  P  2017000000061         6        2  2400       3   1  1011189    121   \n",
      "4  P  2017000000061         6        3  2400       3   1  1011189    111   \n",
      "\n",
      "   AGEP  ...  NAICSP  NATIVITY   OC    OCCP  PAOC    PERNP    PINCP  RAC1P  \\\n",
      "0    73  ...     NaN         1  0.0     NaN   NaN      0.0  10000.0      2   \n",
      "1    31  ...    6214         1  0.0   350.0   4.0  38500.0  38500.0      1   \n",
      "2    41  ...      23         1  0.0  6260.0   NaN  72000.0  82000.0      1   \n",
      "3    48  ...     NaN         1  0.0     NaN   2.0      0.0   8700.0      1   \n",
      "4    16  ...     NaN         1  1.0     NaN   NaN      0.0      0.0      1   \n",
      "\n",
      "     SOCP  FHISP  \n",
      "0     NaN      0  \n",
      "1  119111      0  \n",
      "2  472061      0  \n",
      "3     NaN      0  \n",
      "4     NaN      0  \n",
      "\n",
      "[5 rows x 45 columns]\n"
     ]
    },
    {
     "data": {
      "text/plain": [
       "(3190040, 45)"
      ]
     },
     "execution_count": 6,
     "metadata": {},
     "output_type": "execute_result"
    }
   ],
   "source": [
    "#Concatenate Data Frames to create ACSdata\n",
    "\n",
    "ACSdata = pd.concat([acs1, acs2], axis=0, ignore_index=False)\n",
    "print(ACSdata.head())\n",
    "ACSdata.shape"
   ]
  },
  {
   "cell_type": "markdown",
   "metadata": {},
   "source": [
    "# Merging State and PUMA codes to create unique location (GEOID)"
   ]
  },
  {
   "cell_type": "code",
   "execution_count": 7,
   "metadata": {},
   "outputs": [],
   "source": [
    "#Function to normalize PUMA length (making sure that PUMA = len(5), adding leading zeroes where missing)\n",
    "def normalize_PUMA(puma):\n",
    "    try: \n",
    "        test = int(puma)\n",
    "        puma_t = str(test)\n",
    "    except:\n",
    "        return prin('Error: not an integer')\n",
    "    else:\n",
    "        if len(puma_t) == 3:\n",
    "            puma_t = '00' + str(puma_t)\n",
    "        elif len(puma_t)== 4:\n",
    "            puma_t = '0' + str(puma_t)\n",
    "        elif len(puma_t)== 5:\n",
    "            puma_t = puma_t\n",
    "        else:\n",
    "            puma_t = 'size error'\n",
    "        return puma_t"
   ]
  },
  {
   "cell_type": "code",
   "execution_count": 8,
   "metadata": {},
   "outputs": [],
   "source": [
    "#Create a new column to store the normalized Puma from say 100 to 00100\n",
    "PUMA_T = []\n",
    "for p in ACSdata['PUMA']:\n",
    "    new_p = normalize_PUMA(p)\n",
    "    PUMA_T.append(new_p)\n",
    "ACSdata['PUMA_T'] = pd.DataFrame(PUMA_T)"
   ]
  },
  {
   "cell_type": "code",
   "execution_count": 9,
   "metadata": {},
   "outputs": [
    {
     "name": "stdout",
     "output_type": "stream",
     "text": [
      "3190040\n"
     ]
    }
   ],
   "source": [
    "#Print length of the transformed variable\n",
    "print(len(PUMA_T))"
   ]
  },
  {
   "cell_type": "code",
   "execution_count": 10,
   "metadata": {},
   "outputs": [
    {
     "name": "stdout",
     "output_type": "stream",
     "text": [
      "3190040\n"
     ]
    }
   ],
   "source": [
    "#Print lenght of the new PUMA_T\n",
    "print(len(ACSdata['PUMA_T']))"
   ]
  },
  {
   "cell_type": "code",
   "execution_count": 11,
   "metadata": {},
   "outputs": [],
   "source": [
    "#Normalize the length ST due to possible issues with the leading zero\n",
    "ST_T = []\n",
    "ST_T =[ST if len(ACSdata['ST']) == 2 else '0'+str(ST) for ST in ACSdata['ST'] ]\n",
    "ACSdata['ST_T'] = pd.DataFrame(ST_T)"
   ]
  },
  {
   "cell_type": "code",
   "execution_count": 12,
   "metadata": {},
   "outputs": [
    {
     "data": {
      "text/plain": [
       "0     0102500\n",
       "1     0101800\n",
       "2     0102400\n",
       "3     0102400\n",
       "4     0102400\n",
       "5     0102500\n",
       "6     0102500\n",
       "7     0102500\n",
       "8     0102500\n",
       "9     0102500\n",
       "10    0100500\n",
       "11    0100500\n",
       "12    0100500\n",
       "13    0101900\n",
       "14    0101900\n",
       "15    0101900\n",
       "16    0102701\n",
       "17    0102703\n",
       "18    0102703\n",
       "19    0101100\n",
       "Name: GEOID, dtype: object"
      ]
     },
     "execution_count": 12,
     "metadata": {},
     "output_type": "execute_result"
    }
   ],
   "source": [
    "#Create GEOID which is a combination of ST + PUMA\n",
    "ACSdata['GEOID']= ACSdata['ST_T'].map(str) + ACSdata['PUMA_T'].map(str)\n",
    "ACSdata['GEOID'].head(20)"
   ]
  },
  {
   "cell_type": "markdown",
   "metadata": {},
   "source": [
    "# Creating a unique identifier for each row using SERIALNO and SPORDER (data_key_T)"
   ]
  },
  {
   "cell_type": "code",
   "execution_count": 13,
   "metadata": {},
   "outputs": [
    {
     "data": {
      "text/plain": [
       "1394399"
      ]
     },
     "execution_count": 13,
     "metadata": {},
     "output_type": "execute_result"
    }
   ],
   "source": [
    "#Checking for duplicates in the person records (grouped by household)\n",
    "\n",
    "#How many unique households are in the dataset?\n",
    "ACSdata['SERIALNO'].nunique()"
   ]
  },
  {
   "cell_type": "code",
   "execution_count": 14,
   "metadata": {},
   "outputs": [
    {
     "data": {
      "text/plain": [
       "count    3190040\n",
       "mean           2\n",
       "std            1\n",
       "min            1\n",
       "25%            1\n",
       "50%            2\n",
       "75%            3\n",
       "max           20\n",
       "Name: SPORDER, dtype: int64"
      ]
     },
     "execution_count": 14,
     "metadata": {},
     "output_type": "execute_result"
    }
   ],
   "source": [
    "#What is the min/max of people in any household?\n",
    "ACSdata['SPORDER'].describe().astype('int64')"
   ]
  },
  {
   "cell_type": "code",
   "execution_count": 15,
   "metadata": {},
   "outputs": [
    {
     "name": "stdout",
     "output_type": "stream",
     "text": [
      "duplicate\n"
     ]
    }
   ],
   "source": [
    "ACSdata['duplicate'] = ACSdata.duplicated(subset=['SPORDER', 'SERIALNO'], keep=False)\n",
    "print('duplicate')\n",
    "\n",
    "#Confirmed no duplicate SPORDERS in ACSdata"
   ]
  },
  {
   "cell_type": "code",
   "execution_count": 16,
   "metadata": {},
   "outputs": [
    {
     "data": {
      "text/plain": [
       "0    20170000000161\n",
       "1    20170000000311\n",
       "2    20170000000611\n",
       "3    20170000000612\n",
       "4    20170000000613\n",
       "Name: data_key_T, dtype: object"
      ]
     },
     "execution_count": 16,
     "metadata": {},
     "output_type": "execute_result"
    }
   ],
   "source": [
    "#Create a unique identifier for each record\n",
    "ACSdata['data_key_T'] = ACSdata['SERIALNO'].map(int).map(str) + ACSdata['SPORDER'].map(str)\n",
    "ACSdata['data_key_T'].head()"
   ]
  },
  {
   "cell_type": "markdown",
   "metadata": {},
   "source": [
    "# Wrangling and Munging"
   ]
  },
  {
   "cell_type": "code",
   "execution_count": 17,
   "metadata": {},
   "outputs": [
    {
     "data": {
      "text/plain": [
       "count    3190040\n",
       "mean          41\n",
       "std           23\n",
       "min            0\n",
       "25%           21\n",
       "50%           42\n",
       "75%           60\n",
       "max           96\n",
       "Name: AGEP, dtype: int64"
      ]
     },
     "execution_count": 17,
     "metadata": {},
     "output_type": "execute_result"
    }
   ],
   "source": [
    "#EXPLORING THE DATA\n",
    "\n",
    "#Generating summary statistics - age\n",
    "ACSdata['AGEP'].describe().astype('int64')\n",
    "\n",
    "#Age range (0-96), data set needs to be filtered to include persons of marriageable age(> 18)"
   ]
  },
  {
   "cell_type": "code",
   "execution_count": 18,
   "metadata": {},
   "outputs": [
    {
     "name": "stdout",
     "output_type": "stream",
     "text": [
      "Number of Rows in ACSdata in which Age < 18: 659314\n"
     ]
    }
   ],
   "source": [
    "#Rows in which value of AGEP column in  less than 18\n",
    "is_lt18 = ACSdata.apply(lambda x: True if x['AGEP'] < 18 else False, axis=1)\n",
    "\n",
    "#Count number of True in the series\n",
    "numofRows = len(is_lt18[is_lt18 ==True].index)\n",
    "\n",
    "print('Number of Rows in ACSdata in which Age < 18:', numofRows)"
   ]
  },
  {
   "cell_type": "code",
   "execution_count": 19,
   "metadata": {},
   "outputs": [
    {
     "name": "stdout",
     "output_type": "stream",
     "text": [
      "(2530726, 50)\n"
     ]
    }
   ],
   "source": [
    "#Wrangling - Removing persons from the dataset who are < 18 years and creating a new df (ACSmarry)\n",
    "ACSmarry = ACSdata[ACSdata.AGEP >= 18]\n",
    "print(ACSmarry.shape)"
   ]
  },
  {
   "cell_type": "code",
   "execution_count": 20,
   "metadata": {},
   "outputs": [],
   "source": [
    "#EXPLORING THE DATAFRAME (ACSmarry)"
   ]
  },
  {
   "cell_type": "code",
   "execution_count": 21,
   "metadata": {},
   "outputs": [
    {
     "data": {
      "text/plain": [
       "1    1360300\n",
       "5     671044\n",
       "3     285664\n",
       "2     169374\n",
       "4      44344\n",
       "Name: MAR, dtype: int64"
      ]
     },
     "execution_count": 21,
     "metadata": {},
     "output_type": "execute_result"
    }
   ],
   "source": [
    "#Exploring the marriage indicator\n",
    "#Generating frequency table - marriage\n",
    "ACSmarry['MAR'].value_counts(normalize=False)"
   ]
  },
  {
   "cell_type": "code",
   "execution_count": 22,
   "metadata": {},
   "outputs": [],
   "source": [
    "#Exporting ACSmarry to csv\n",
    "#ACSmarry.to_csv(r'data/check.csv')"
   ]
  },
  {
   "cell_type": "code",
   "execution_count": 23,
   "metadata": {},
   "outputs": [
    {
     "data": {
      "text/plain": [
       "(2530726, 50)"
      ]
     },
     "execution_count": 23,
     "metadata": {},
     "output_type": "execute_result"
    }
   ],
   "source": [
    "# #Dropping rows where MAR not equal 1 or not equal 5 (cases where person is widowed, divorced or seperated)\n",
    "# ACSmarry = ACSmarry[(ACSmarry.MAR ==1) | (ACSmarry.MAR ==5)]\n",
    "ACSmarry.shape\n",
    "\n",
    "#July 31, 2019 - After discussion with Maria and Mak, I reincorporated persons who are widowed, divorced or seperated"
   ]
  },
  {
   "cell_type": "code",
   "execution_count": 24,
   "metadata": {},
   "outputs": [],
   "source": [
    "# ACSmarry['MAR'].value_counts(sort=True) #Marital status"
   ]
  },
  {
   "cell_type": "code",
   "execution_count": 25,
   "metadata": {},
   "outputs": [],
   "source": [
    "# #Transformaing--> Marrital Status (yes/no)\n",
    "# ACSmarry.loc[ACSmarry.MAR == 5, 'MARRIED'] = 0\n",
    "# ACSmarry.loc[ACSmarry.MAR == 1, 'MARRIED'] = 1\n",
    "\n",
    "# ACSmarry['MARRIED'].value_counts(sort=True) "
   ]
  },
  {
   "cell_type": "code",
   "execution_count": 26,
   "metadata": {},
   "outputs": [
    {
     "name": "stderr",
     "output_type": "stream",
     "text": [
      "C:\\Users\\steph\\Anaconda3\\lib\\site-packages\\pandas\\core\\indexing.py:362: SettingWithCopyWarning: \n",
      "A value is trying to be set on a copy of a slice from a DataFrame.\n",
      "Try using .loc[row_indexer,col_indexer] = value instead\n",
      "\n",
      "See the caveats in the documentation: http://pandas.pydata.org/pandas-docs/stable/indexing.html#indexing-view-versus-copy\n",
      "  self.obj[key] = _infer_fill_value(value)\n",
      "C:\\Users\\steph\\Anaconda3\\lib\\site-packages\\pandas\\core\\indexing.py:543: SettingWithCopyWarning: \n",
      "A value is trying to be set on a copy of a slice from a DataFrame.\n",
      "Try using .loc[row_indexer,col_indexer] = value instead\n",
      "\n",
      "See the caveats in the documentation: http://pandas.pydata.org/pandas-docs/stable/indexing.html#indexing-view-versus-copy\n",
      "  self.obj[item] = s\n"
     ]
    },
    {
     "data": {
      "text/plain": [
       "1.0    1404644\n",
       "0.0    1126082\n",
       "Name: MARRIED, dtype: int64"
      ]
     },
     "execution_count": 26,
     "metadata": {},
     "output_type": "execute_result"
    }
   ],
   "source": [
    "#Maritual Status #2\n",
    "ACSmarry.loc[(ACSmarry.MAR ==5) | (ACSmarry.MAR ==2) | (ACSmarry.MAR ==3), 'MARRIED'] = 0 #Not Married\n",
    "ACSmarry.loc[(ACSmarry.MAR ==1) | (ACSmarry.MAR ==4), 'MARRIED'] = 1 #Married\n",
    "\n",
    "ACSmarry['MARRIED'].value_counts(sort=True) "
   ]
  },
  {
   "cell_type": "code",
   "execution_count": 27,
   "metadata": {},
   "outputs": [
    {
     "name": "stderr",
     "output_type": "stream",
     "text": [
      "C:\\Users\\steph\\Anaconda3\\lib\\site-packages\\ipykernel_launcher.py:4: SettingWithCopyWarning: \n",
      "A value is trying to be set on a copy of a slice from a DataFrame.\n",
      "Try using .loc[row_indexer,col_indexer] = value instead\n",
      "\n",
      "See the caveats in the documentation: http://pandas.pydata.org/pandas-docs/stable/indexing.html#indexing-view-versus-copy\n",
      "  after removing the cwd from sys.path.\n",
      "C:\\Users\\steph\\Anaconda3\\lib\\site-packages\\ipykernel_launcher.py:5: SettingWithCopyWarning: \n",
      "A value is trying to be set on a copy of a slice from a DataFrame.\n",
      "Try using .loc[row_indexer,col_indexer] = value instead\n",
      "\n",
      "See the caveats in the documentation: http://pandas.pydata.org/pandas-docs/stable/indexing.html#indexing-view-versus-copy\n",
      "  \"\"\"\n",
      "C:\\Users\\steph\\Anaconda3\\lib\\site-packages\\ipykernel_launcher.py:6: SettingWithCopyWarning: \n",
      "A value is trying to be set on a copy of a slice from a DataFrame.\n",
      "Try using .loc[row_indexer,col_indexer] = value instead\n",
      "\n",
      "See the caveats in the documentation: http://pandas.pydata.org/pandas-docs/stable/indexing.html#indexing-view-versus-copy\n",
      "  \n"
     ]
    }
   ],
   "source": [
    "#Using ADJINC to calculate wages/earning and income variables\n",
    "#Note--> this code will need to be adjusted for the multi-year file\n",
    "\n",
    "ACSmarry['WAGES'] = ACSmarry.WAGP * (ACSmarry.ADJINC / 1000000 )\n",
    "ACSmarry['INCOME'] = ACSmarry.PINCP * (ACSmarry.ADJINC / 1000000 )\n",
    "ACSmarry['EARN'] = ACSmarry.PERNP * (ACSmarry.ADJINC / 1000000 )"
   ]
  },
  {
   "cell_type": "code",
   "execution_count": 28,
   "metadata": {},
   "outputs": [
    {
     "data": {
      "text/html": [
       "<div>\n",
       "<style scoped>\n",
       "    .dataframe tbody tr th:only-of-type {\n",
       "        vertical-align: middle;\n",
       "    }\n",
       "\n",
       "    .dataframe tbody tr th {\n",
       "        vertical-align: top;\n",
       "    }\n",
       "\n",
       "    .dataframe thead th {\n",
       "        text-align: right;\n",
       "    }\n",
       "</style>\n",
       "<table border=\"1\" class=\"dataframe\">\n",
       "  <thead>\n",
       "    <tr style=\"text-align: right;\">\n",
       "      <th></th>\n",
       "      <th>WAGES</th>\n",
       "      <th>WAGP</th>\n",
       "      <th>INCOME</th>\n",
       "      <th>PINCP</th>\n",
       "      <th>EARN</th>\n",
       "      <th>PERNP</th>\n",
       "    </tr>\n",
       "  </thead>\n",
       "  <tbody>\n",
       "    <tr>\n",
       "      <th>count</th>\n",
       "      <td>2530726</td>\n",
       "      <td>2530726</td>\n",
       "      <td>2530726</td>\n",
       "      <td>2530726</td>\n",
       "      <td>2530726</td>\n",
       "      <td>2530726</td>\n",
       "    </tr>\n",
       "    <tr>\n",
       "      <th>mean</th>\n",
       "      <td>31072</td>\n",
       "      <td>30728</td>\n",
       "      <td>43202</td>\n",
       "      <td>42724</td>\n",
       "      <td>33157</td>\n",
       "      <td>32791</td>\n",
       "    </tr>\n",
       "    <tr>\n",
       "      <th>std</th>\n",
       "      <td>55479</td>\n",
       "      <td>54865</td>\n",
       "      <td>62819</td>\n",
       "      <td>62123</td>\n",
       "      <td>58403</td>\n",
       "      <td>57757</td>\n",
       "    </tr>\n",
       "    <tr>\n",
       "      <th>min</th>\n",
       "      <td>0</td>\n",
       "      <td>0</td>\n",
       "      <td>-9201</td>\n",
       "      <td>-9100</td>\n",
       "      <td>-9100</td>\n",
       "      <td>-9000</td>\n",
       "    </tr>\n",
       "    <tr>\n",
       "      <th>25%</th>\n",
       "      <td>0</td>\n",
       "      <td>0</td>\n",
       "      <td>9950</td>\n",
       "      <td>9840</td>\n",
       "      <td>0</td>\n",
       "      <td>0</td>\n",
       "    </tr>\n",
       "    <tr>\n",
       "      <th>50%</th>\n",
       "      <td>10213</td>\n",
       "      <td>10100</td>\n",
       "      <td>26290</td>\n",
       "      <td>26000</td>\n",
       "      <td>14156</td>\n",
       "      <td>14000</td>\n",
       "    </tr>\n",
       "    <tr>\n",
       "      <th>75%</th>\n",
       "      <td>43481</td>\n",
       "      <td>43000</td>\n",
       "      <td>53593</td>\n",
       "      <td>53000</td>\n",
       "      <td>45503</td>\n",
       "      <td>45000</td>\n",
       "    </tr>\n",
       "    <tr>\n",
       "      <th>max</th>\n",
       "      <td>744235</td>\n",
       "      <td>736000</td>\n",
       "      <td>1580488</td>\n",
       "      <td>1563000</td>\n",
       "      <td>1274098</td>\n",
       "      <td>1260000</td>\n",
       "    </tr>\n",
       "  </tbody>\n",
       "</table>\n",
       "</div>"
      ],
      "text/plain": [
       "         WAGES     WAGP   INCOME    PINCP     EARN    PERNP\n",
       "count  2530726  2530726  2530726  2530726  2530726  2530726\n",
       "mean     31072    30728    43202    42724    33157    32791\n",
       "std      55479    54865    62819    62123    58403    57757\n",
       "min          0        0    -9201    -9100    -9100    -9000\n",
       "25%          0        0     9950     9840        0        0\n",
       "50%      10213    10100    26290    26000    14156    14000\n",
       "75%      43481    43000    53593    53000    45503    45000\n",
       "max     744235   736000  1580488  1563000  1274098  1260000"
      ]
     },
     "execution_count": 28,
     "metadata": {},
     "output_type": "execute_result"
    }
   ],
   "source": [
    "ACSmoney = ACSmarry[['WAGES', 'WAGP', 'INCOME', 'PINCP', 'EARN', 'PERNP']]\n",
    "\n",
    "ACSmoney.describe().astype('int64')"
   ]
  },
  {
   "cell_type": "code",
   "execution_count": 29,
   "metadata": {},
   "outputs": [
    {
     "name": "stdout",
     "output_type": "stream",
     "text": [
      "            INCOME   PINCP        EARN   PERNP\n",
      "816     -364.02804  -360.0  -364.02804  -360.0\n",
      "817     -364.02804  -360.0  -364.02804  -360.0\n",
      "821    -1516.78350 -1500.0     0.00000     0.0\n",
      "2484   -1516.78350 -1500.0     0.00000     0.0\n",
      "4771   -1516.78350 -1500.0     0.00000     0.0\n",
      "5218   -2831.32920 -2800.0 -2831.32920 -2800.0\n",
      "8658   -5864.89620 -5800.0 -5864.89620 -5800.0\n",
      "9275   -5864.89620 -5800.0 -5864.89620 -5800.0\n",
      "9579   -5864.89620 -5800.0 -5864.89620 -5800.0\n",
      "10334   -808.95120  -800.0  -808.95120  -800.0\n",
      "13380  -1516.78350 -1500.0     0.00000     0.0\n",
      "14314   -808.95120  -800.0  -808.95120  -800.0\n",
      "15979  -5864.89620 -5800.0 -5864.89620 -5800.0\n",
      "16373  -1314.54570 -1300.0     0.00000     0.0\n",
      "17755  -1516.78350 -1500.0     0.00000     0.0\n",
      "18600  -1516.78350 -1500.0     0.00000     0.0\n",
      "22412  -5864.89620 -5800.0 -5864.89620 -5800.0\n",
      "23407  -1516.78350 -1500.0     0.00000     0.0\n",
      "23432  -5864.89620 -5800.0 -5864.89620 -5800.0\n",
      "26746  -1516.78350 -1500.0     0.00000     0.0\n",
      "27688  -1516.78350 -1500.0     0.00000     0.0\n",
      "27902  -5864.89620 -5800.0 -5864.89620 -5800.0\n",
      "27974  -4449.23160 -4400.0 -5864.89620 -5800.0\n",
      "28402  -5864.89620 -5800.0 -5864.89620 -5800.0\n",
      "29528   -303.35670  -300.0  -303.35670  -300.0\n",
      "30590  -5864.89620 -5800.0 -5864.89620 -5800.0\n",
      "31480  -1112.30790 -1100.0   404.47560   400.0\n",
      "32772  -5864.89620 -5800.0 -5864.89620 -5800.0\n",
      "32889  -1516.78350 -1500.0     0.00000     0.0\n",
      "33187  -1516.78350 -1500.0     0.00000     0.0\n",
      "...            ...     ...         ...     ...\n",
      "74480  -1617.90240 -1600.0     0.00000     0.0\n",
      "74865  -1617.90240 -1600.0     0.00000     0.0\n",
      "74918  -1617.90240 -1600.0     0.00000     0.0\n",
      "78084  -1617.90240 -1600.0     0.00000     0.0\n",
      "79131  -1617.90240 -1600.0     0.00000     0.0\n",
      "80458  -1617.90240 -1600.0     0.00000     0.0\n",
      "83364  -1617.90240 -1600.0     0.00000     0.0\n",
      "83384  -5763.77730 -5700.0 -5763.77730 -5700.0\n",
      "83583  -1617.90240 -1600.0     0.00000     0.0\n",
      "86424  -1617.90240 -1600.0     0.00000     0.0\n",
      "87620  -1617.90240 -1600.0     0.00000     0.0\n",
      "90549  -1617.90240 -1600.0     0.00000     0.0\n",
      "91699  -5763.77730 -5700.0 -5763.77730 -5700.0\n",
      "91739  -5763.77730 -5700.0 -5763.77730 -5700.0\n",
      "93766  -2527.97250 -2500.0 -2527.97250 -2500.0\n",
      "95232  -5763.77730 -5700.0 -5763.77730 -5700.0\n",
      "97504  -1617.90240 -1600.0     0.00000     0.0\n",
      "97915  -1617.90240 -1600.0     0.00000     0.0\n",
      "98174  -1617.90240 -1600.0     0.00000     0.0\n",
      "98901  -1617.90240 -1600.0     0.00000     0.0\n",
      "99466  -1617.90240 -1600.0     0.00000     0.0\n",
      "101090 -1617.90240 -1600.0     0.00000     0.0\n",
      "101099 -5763.77730 -5700.0 -5763.77730 -5700.0\n",
      "101598 -5753.66541 -5690.0 -5763.77730 -5700.0\n",
      "101722 -1617.90240 -1600.0     0.00000     0.0\n",
      "102779 -1112.30790 -1100.0   505.59450   500.0\n",
      "103247 -1486.44783 -1470.0   131.45457   130.0\n",
      "103635 -1617.90240 -1600.0     0.00000     0.0\n",
      "107998 -5763.77730 -5700.0 -5763.77730 -5700.0\n",
      "108196 -1617.90240 -1600.0     0.00000     0.0\n",
      "\n",
      "[100 rows x 4 columns]\n"
     ]
    }
   ],
   "source": [
    "#printing a few rows where income is < 0\n",
    "\n",
    "filtered_data = ACSmarry[ACSmarry['INCOME'] < 0]\n",
    "print(filtered_data[['INCOME', 'PINCP', 'EARN', 'PERNP']].head(100))"
   ]
  },
  {
   "cell_type": "code",
   "execution_count": 30,
   "metadata": {},
   "outputs": [
    {
     "name": "stderr",
     "output_type": "stream",
     "text": [
      "C:\\Users\\steph\\Anaconda3\\lib\\site-packages\\ipykernel_launcher.py:4: SettingWithCopyWarning: \n",
      "A value is trying to be set on a copy of a slice from a DataFrame.\n",
      "Try using .loc[row_indexer,col_indexer] = value instead\n",
      "\n",
      "See the caveats in the documentation: http://pandas.pydata.org/pandas-docs/stable/indexing.html#indexing-view-versus-copy\n",
      "  after removing the cwd from sys.path.\n",
      "C:\\Users\\steph\\Anaconda3\\lib\\site-packages\\ipykernel_launcher.py:5: SettingWithCopyWarning: \n",
      "A value is trying to be set on a copy of a slice from a DataFrame.\n",
      "Try using .loc[row_indexer,col_indexer] = value instead\n",
      "\n",
      "See the caveats in the documentation: http://pandas.pydata.org/pandas-docs/stable/indexing.html#indexing-view-versus-copy\n",
      "  \"\"\"\n"
     ]
    }
   ],
   "source": [
    "#Persons with negative income or earning fall below the poverty line.  For ease of interpretation in the model, setting\n",
    "#those values to 0(zero) in the dataframe using numpy\n",
    "\n",
    "ACSmarry['INCOME'] = np.where(ACSmarry['INCOME'] < 0, 0, ACSmarry['INCOME'])\n",
    "ACSmarry['EARN'] = np.where(ACSmarry['EARN'] < 0, 0, ACSmarry['EARN'])"
   ]
  },
  {
   "cell_type": "code",
   "execution_count": 31,
   "metadata": {},
   "outputs": [
    {
     "data": {
      "text/plain": [
       "(2530726, 54)"
      ]
     },
     "execution_count": 31,
     "metadata": {},
     "output_type": "execute_result"
    }
   ],
   "source": [
    "ACSmarry.shape"
   ]
  },
  {
   "cell_type": "code",
   "execution_count": 32,
   "metadata": {},
   "outputs": [
    {
     "data": {
      "text/html": [
       "<div>\n",
       "<style scoped>\n",
       "    .dataframe tbody tr th:only-of-type {\n",
       "        vertical-align: middle;\n",
       "    }\n",
       "\n",
       "    .dataframe tbody tr th {\n",
       "        vertical-align: top;\n",
       "    }\n",
       "\n",
       "    .dataframe thead th {\n",
       "        text-align: right;\n",
       "    }\n",
       "</style>\n",
       "<table border=\"1\" class=\"dataframe\">\n",
       "  <thead>\n",
       "    <tr style=\"text-align: right;\">\n",
       "      <th></th>\n",
       "      <th>WAGES</th>\n",
       "      <th>WAGP</th>\n",
       "      <th>INCOME</th>\n",
       "      <th>PINCP</th>\n",
       "      <th>EARN</th>\n",
       "      <th>PERNP</th>\n",
       "    </tr>\n",
       "  </thead>\n",
       "  <tbody>\n",
       "    <tr>\n",
       "      <th>count</th>\n",
       "      <td>2530726</td>\n",
       "      <td>2530726</td>\n",
       "      <td>2530726</td>\n",
       "      <td>2530726</td>\n",
       "      <td>2530726</td>\n",
       "      <td>2530726</td>\n",
       "    </tr>\n",
       "    <tr>\n",
       "      <th>mean</th>\n",
       "      <td>31072</td>\n",
       "      <td>30728</td>\n",
       "      <td>43205</td>\n",
       "      <td>42724</td>\n",
       "      <td>33161</td>\n",
       "      <td>32791</td>\n",
       "    </tr>\n",
       "    <tr>\n",
       "      <th>std</th>\n",
       "      <td>55479</td>\n",
       "      <td>54865</td>\n",
       "      <td>62816</td>\n",
       "      <td>62123</td>\n",
       "      <td>58400</td>\n",
       "      <td>57757</td>\n",
       "    </tr>\n",
       "    <tr>\n",
       "      <th>min</th>\n",
       "      <td>0</td>\n",
       "      <td>0</td>\n",
       "      <td>0</td>\n",
       "      <td>-9100</td>\n",
       "      <td>0</td>\n",
       "      <td>-9000</td>\n",
       "    </tr>\n",
       "    <tr>\n",
       "      <th>25%</th>\n",
       "      <td>0</td>\n",
       "      <td>0</td>\n",
       "      <td>9950</td>\n",
       "      <td>9840</td>\n",
       "      <td>0</td>\n",
       "      <td>0</td>\n",
       "    </tr>\n",
       "    <tr>\n",
       "      <th>50%</th>\n",
       "      <td>10213</td>\n",
       "      <td>10100</td>\n",
       "      <td>26290</td>\n",
       "      <td>26000</td>\n",
       "      <td>14156</td>\n",
       "      <td>14000</td>\n",
       "    </tr>\n",
       "    <tr>\n",
       "      <th>75%</th>\n",
       "      <td>43481</td>\n",
       "      <td>43000</td>\n",
       "      <td>53593</td>\n",
       "      <td>53000</td>\n",
       "      <td>45503</td>\n",
       "      <td>45000</td>\n",
       "    </tr>\n",
       "    <tr>\n",
       "      <th>max</th>\n",
       "      <td>744235</td>\n",
       "      <td>736000</td>\n",
       "      <td>1580488</td>\n",
       "      <td>1563000</td>\n",
       "      <td>1274098</td>\n",
       "      <td>1260000</td>\n",
       "    </tr>\n",
       "  </tbody>\n",
       "</table>\n",
       "</div>"
      ],
      "text/plain": [
       "         WAGES     WAGP   INCOME    PINCP     EARN    PERNP\n",
       "count  2530726  2530726  2530726  2530726  2530726  2530726\n",
       "mean     31072    30728    43205    42724    33161    32791\n",
       "std      55479    54865    62816    62123    58400    57757\n",
       "min          0        0        0    -9100        0    -9000\n",
       "25%          0        0     9950     9840        0        0\n",
       "50%      10213    10100    26290    26000    14156    14000\n",
       "75%      43481    43000    53593    53000    45503    45000\n",
       "max     744235   736000  1580488  1563000  1274098  1260000"
      ]
     },
     "execution_count": 32,
     "metadata": {},
     "output_type": "execute_result"
    }
   ],
   "source": [
    "#Checking minimum values for INCOME and EARN\n",
    "ACScheck = ACSmarry[['WAGES', 'WAGP', 'INCOME', 'PINCP', 'EARN', 'PERNP']]\n",
    "ACScheck.describe().astype('int64')"
   ]
  },
  {
   "cell_type": "code",
   "execution_count": 33,
   "metadata": {},
   "outputs": [
    {
     "data": {
      "text/plain": [
       "1    2135403\n",
       "4     197130\n",
       "5     160061\n",
       "3      23517\n",
       "2      14615\n",
       "Name: CIT, dtype: int64"
      ]
     },
     "execution_count": 33,
     "metadata": {},
     "output_type": "execute_result"
    }
   ],
   "source": [
    "#Frequency tables and possible transformation of categorical variables\n",
    "\n",
    "#Citizenship status\n",
    "\n",
    "ACSmarry['CIT'].value_counts(sort=True) "
   ]
  },
  {
   "cell_type": "code",
   "execution_count": 34,
   "metadata": {},
   "outputs": [
    {
     "data": {
      "text/plain": [
       "1.0    2370665\n",
       "0.0     160061\n",
       "Name: CITIZEN, dtype: int64"
      ]
     },
     "execution_count": 34,
     "metadata": {},
     "output_type": "execute_result"
    }
   ],
   "source": [
    "#Transformaing--> Citizen (yes/no)\n",
    "ACSmarry.loc[ACSmarry.CIT == 5, 'CITIZEN'] = 0\n",
    "ACSmarry.loc[ACSmarry.CIT != 5, 'CITIZEN'] = 1\n",
    "\n",
    "ACSmarry['CITIZEN'].value_counts(sort=True) "
   ]
  },
  {
   "cell_type": "code",
   "execution_count": 35,
   "metadata": {},
   "outputs": [
    {
     "data": {
      "text/plain": [
       "1.0    1385866\n",
       "2.0     366893\n",
       "3.0     106923\n",
       "Name: MARHT, dtype: int64"
      ]
     },
     "execution_count": 35,
     "metadata": {},
     "output_type": "execute_result"
    }
   ],
   "source": [
    "#Transforming number of times married\n",
    "ACSmarry['MARHT'].value_counts(sort=True) #Number of times married"
   ]
  },
  {
   "cell_type": "code",
   "execution_count": 36,
   "metadata": {},
   "outputs": [
    {
     "name": "stderr",
     "output_type": "stream",
     "text": [
      "C:\\Users\\steph\\Anaconda3\\lib\\site-packages\\pandas\\core\\generic.py:6130: SettingWithCopyWarning: \n",
      "A value is trying to be set on a copy of a slice from a DataFrame\n",
      "\n",
      "See the caveats in the documentation: http://pandas.pydata.org/pandas-docs/stable/indexing.html#indexing-view-versus-copy\n",
      "  self._update_inplace(new_data)\n"
     ]
    },
    {
     "data": {
      "text/plain": [
       "1.0    1385866\n",
       "0.0     671044\n",
       "2.0     366893\n",
       "3.0     106923\n",
       "Name: MARHT, dtype: int64"
      ]
     },
     "execution_count": 36,
     "metadata": {},
     "output_type": "execute_result"
    }
   ],
   "source": [
    "#Replacing blanks in MARHT with 0(zero)\n",
    "ACSmarry['MARHT'].fillna(0, inplace = True)\n",
    "ACSmarry['MARHT'].value_counts(sort=True)"
   ]
  },
  {
   "cell_type": "code",
   "execution_count": 37,
   "metadata": {},
   "outputs": [
    {
     "data": {
      "text/plain": [
       "1.0    1385866\n",
       "0.0     671044\n",
       "2.0     473816\n",
       "Name: MAR_TIMES, dtype: int64"
      ]
     },
     "execution_count": 37,
     "metadata": {},
     "output_type": "execute_result"
    }
   ],
   "source": [
    "#Creating variable: Previously married (# of times)\n",
    "\n",
    "ACSmarry.loc[ACSmarry.MARHT == 0, 'MAR_TIMES'] = 0 #Married zero times\n",
    "ACSmarry.loc[(ACSmarry.MARHT == 1), 'MAR_TIMES'] = 1 #married 1 time\n",
    "ACSmarry.loc[(ACSmarry.MARHT > 1), 'MAR_TIMES'] = 2 #married more than 1 times\n",
    "\n",
    "ACSmarry['MAR_TIMES'].value_counts(sort=True) "
   ]
  },
  {
   "cell_type": "code",
   "execution_count": 38,
   "metadata": {},
   "outputs": [
    {
     "data": {
      "text/plain": [
       "1.0    2186818\n",
       "3.0     329380\n",
       "2.0      14528\n",
       "Name: MIG, dtype: int64"
      ]
     },
     "execution_count": 38,
     "metadata": {},
     "output_type": "execute_result"
    }
   ],
   "source": [
    "#Mobility:  (lived here 1 year aga)\n",
    "ACSmarry['MIG'].value_counts(sort=True)"
   ]
  },
  {
   "cell_type": "code",
   "execution_count": 39,
   "metadata": {},
   "outputs": [
    {
     "data": {
      "text/plain": [
       "0.0    2186818\n",
       "1.0     343908\n",
       "Name: MOVER, dtype: int64"
      ]
     },
     "execution_count": 39,
     "metadata": {},
     "output_type": "execute_result"
    }
   ],
   "source": [
    "#Transforming MIG to \"Mover, or changed locations 1 year or less ago\"\n",
    "ACSmarry.loc[ACSmarry.MIG != 1, 'MOVER'] = 1 #Moved, changed location\n",
    "ACSmarry.loc[ACSmarry.MIG == 1, 'MOVER'] = 0 #Did not move or change location\n",
    "\n",
    "ACSmarry['MOVER'].value_counts(sort=True)"
   ]
  },
  {
   "cell_type": "code",
   "execution_count": 40,
   "metadata": {},
   "outputs": [
    {
     "data": {
      "text/plain": [
       "0.0    86.410698\n",
       "1.0    13.589302\n",
       "Name: MOVER, dtype: float64"
      ]
     },
     "execution_count": 40,
     "metadata": {},
     "output_type": "execute_result"
    }
   ],
   "source": [
    "ACSmarry['MOVER'].value_counts(sort=True, normalize=True) * 100"
   ]
  },
  {
   "cell_type": "code",
   "execution_count": 41,
   "metadata": {},
   "outputs": [
    {
     "data": {
      "text/plain": [
       "16.0    593362\n",
       "21.0    474195\n",
       "19.0    385417\n",
       "22.0    210462\n",
       "20.0    208034\n",
       "18.0    183853\n",
       "17.0    100775\n",
       "14.0     57847\n",
       "23.0     51635\n",
       "15.0     48886\n",
       "13.0     41492\n",
       "1.0      35862\n",
       "24.0     34357\n",
       "12.0     31612\n",
       "11.0     26780\n",
       "9.0      19603\n",
       "10.0      8416\n",
       "8.0       5445\n",
       "6.0       4795\n",
       "7.0       3696\n",
       "5.0       2119\n",
       "4.0        973\n",
       "3.0        583\n",
       "2.0        527\n",
       "Name: SCHL, dtype: int64"
      ]
     },
     "execution_count": 41,
     "metadata": {},
     "output_type": "execute_result"
    }
   ],
   "source": [
    "#Transforming educational attainment variable (SCHL)\n",
    "\n",
    "ACSmarry['SCHL'].value_counts(sort=True)"
   ]
  },
  {
   "cell_type": "code",
   "execution_count": 42,
   "metadata": {},
   "outputs": [
    {
     "data": {
      "text/plain": [
       "2.0    777304\n",
       "1.0    694137\n",
       "3.0    474195\n",
       "4.0    296454\n",
       "0.0    288636\n",
       "Name: EDUCATION, dtype: int64"
      ]
     },
     "execution_count": 42,
     "metadata": {},
     "output_type": "execute_result"
    }
   ],
   "source": [
    "ACSmarry.loc[ACSmarry.SCHL < 16, 'EDUCATION'] = 0 #No high school diploma or GED\n",
    "ACSmarry.loc[(ACSmarry.SCHL == 16) | (ACSmarry.SCHL == 17), 'EDUCATION'] = 1 #HS diploma or GED\n",
    "ACSmarry.loc[(ACSmarry.SCHL == 18) | (ACSmarry.SCHL == 19) | (ACSmarry.SCHL == 20), 'EDUCATION'] = 2 #less thhan a college degree or an associate's\n",
    "ACSmarry.loc[(ACSmarry.SCHL == 21), 'EDUCATION'] = 3 #Bachelor's degree\n",
    "ACSmarry.loc[(ACSmarry.SCHL == 22) | (ACSmarry.SCHL == 23) | (ACSmarry.SCHL == 24), 'EDUCATION'] = 4 #Graduate degree\n",
    "\n",
    "ACSmarry['EDUCATION'].value_counts(sort=True)"
   ]
  },
  {
   "cell_type": "code",
   "execution_count": 43,
   "metadata": {},
   "outputs": [
    {
     "data": {
      "text/html": [
       "<div>\n",
       "<style scoped>\n",
       "    .dataframe tbody tr th:only-of-type {\n",
       "        vertical-align: middle;\n",
       "    }\n",
       "\n",
       "    .dataframe tbody tr th {\n",
       "        vertical-align: top;\n",
       "    }\n",
       "\n",
       "    .dataframe thead th {\n",
       "        text-align: right;\n",
       "    }\n",
       "</style>\n",
       "<table border=\"1\" class=\"dataframe\">\n",
       "  <thead>\n",
       "    <tr style=\"text-align: right;\">\n",
       "      <th>EDUCATION</th>\n",
       "      <th>0.0</th>\n",
       "      <th>1.0</th>\n",
       "      <th>2.0</th>\n",
       "      <th>3.0</th>\n",
       "      <th>4.0</th>\n",
       "      <th>All</th>\n",
       "    </tr>\n",
       "    <tr>\n",
       "      <th>MARRIED</th>\n",
       "      <th></th>\n",
       "      <th></th>\n",
       "      <th></th>\n",
       "      <th></th>\n",
       "      <th></th>\n",
       "      <th></th>\n",
       "    </tr>\n",
       "  </thead>\n",
       "  <tbody>\n",
       "    <tr>\n",
       "      <th>0.0</th>\n",
       "      <td>152801</td>\n",
       "      <td>340995</td>\n",
       "      <td>373220</td>\n",
       "      <td>173312</td>\n",
       "      <td>85754</td>\n",
       "      <td>1126082</td>\n",
       "    </tr>\n",
       "    <tr>\n",
       "      <th>1.0</th>\n",
       "      <td>135835</td>\n",
       "      <td>353142</td>\n",
       "      <td>404084</td>\n",
       "      <td>300883</td>\n",
       "      <td>210700</td>\n",
       "      <td>1404644</td>\n",
       "    </tr>\n",
       "    <tr>\n",
       "      <th>All</th>\n",
       "      <td>288636</td>\n",
       "      <td>694137</td>\n",
       "      <td>777304</td>\n",
       "      <td>474195</td>\n",
       "      <td>296454</td>\n",
       "      <td>2530726</td>\n",
       "    </tr>\n",
       "  </tbody>\n",
       "</table>\n",
       "</div>"
      ],
      "text/plain": [
       "EDUCATION     0.0     1.0     2.0     3.0     4.0      All\n",
       "MARRIED                                                   \n",
       "0.0        152801  340995  373220  173312   85754  1126082\n",
       "1.0        135835  353142  404084  300883  210700  1404644\n",
       "All        288636  694137  777304  474195  296454  2530726"
      ]
     },
     "execution_count": 43,
     "metadata": {},
     "output_type": "execute_result"
    }
   ],
   "source": [
    "#Marital status by educational attainment\n",
    "pd.crosstab(ACSmarry.MARRIED, ACSmarry.EDUCATION, margins=True)"
   ]
  },
  {
   "cell_type": "code",
   "execution_count": 44,
   "metadata": {},
   "outputs": [
    {
     "data": {
      "text/plain": [
       "1.0     1231373\n",
       "11.0      80443\n",
       "10.0      40975\n",
       "2.0       29522\n",
       "4.0       25376\n",
       "12.0      11953\n",
       "5.0        8971\n",
       "9.0        7865\n",
       "8.0        2562\n",
       "7.0        2372\n",
       "3.0         772\n",
       "6.0         641\n",
       "Name: JWTR, dtype: int64"
      ]
     },
     "execution_count": 44,
     "metadata": {},
     "output_type": "execute_result"
    }
   ],
   "source": [
    "#JWTR: Means of Transportation to work\n",
    "#Before Transformation\n",
    "ACSmarry['JWTR'].value_counts(sort=True)"
   ]
  },
  {
   "cell_type": "code",
   "execution_count": 45,
   "metadata": {},
   "outputs": [
    {
     "data": {
      "text/plain": [
       "1.0     1231373\n",
       "0.0     1087901\n",
       "11.0      80443\n",
       "10.0      40975\n",
       "2.0       29522\n",
       "4.0       25376\n",
       "12.0      11953\n",
       "5.0        8971\n",
       "9.0        7865\n",
       "8.0        2562\n",
       "7.0        2372\n",
       "3.0         772\n",
       "6.0         641\n",
       "Name: JWTR, dtype: int64"
      ]
     },
     "execution_count": 45,
     "metadata": {},
     "output_type": "execute_result"
    }
   ],
   "source": [
    "#Replacing blanks in JWTR with 0 (which indicates that person is not in the labor force)\n",
    "ACSmarry['JWTR'].fillna(0, inplace = True)\n",
    "ACSmarry['JWTR'].value_counts(sort=True)"
   ]
  },
  {
   "cell_type": "code",
   "execution_count": 46,
   "metadata": {},
   "outputs": [
    {
     "name": "stderr",
     "output_type": "stream",
     "text": [
      "C:\\Users\\steph\\Anaconda3\\lib\\site-packages\\ipykernel_launcher.py:2: SettingWithCopyWarning: \n",
      "A value is trying to be set on a copy of a slice from a DataFrame.\n",
      "Try using .loc[row_indexer,col_indexer] = value instead\n",
      "\n",
      "See the caveats in the documentation: http://pandas.pydata.org/pandas-docs/stable/indexing.html#indexing-view-versus-copy\n",
      "  \n"
     ]
    }
   ],
   "source": [
    "# Transforming JWTR to WORK_SOC \n",
    "ACSmarry['WORK_SOC'] = ACSmarry['JWTR']\n",
    "ACSmarry.loc[(ACSmarry.JWTR ==1)|(ACSmarry.JWTR ==8)|(ACSmarry.JWTR ==9)|(ACSmarry.JWTR ==11)|(ACSmarry.JWTR ==12),'WORK_SOC'] = 0\n",
    "ACSmarry.loc[(ACSmarry.JWTR ==2)|(ACSmarry.JWTR ==3)|(ACSmarry.JWTR ==4)|(ACSmarry.JWTR ==5)|(ACSmarry.JWTR ==6)|(ACSmarry.JWTR ==7)|(ACSmarry.JWTR ==10),'WORK_SOC'] = 1\n",
    "# 1 for JWTR: Bus, trolley car, Subway, Railroad, Ferryboat, Taxicab, Walk"
   ]
  },
  {
   "cell_type": "code",
   "execution_count": 47,
   "metadata": {},
   "outputs": [
    {
     "data": {
      "text/plain": [
       "0.0    2422097\n",
       "1.0     108629\n",
       "Name: WORK_SOC, dtype: int64"
      ]
     },
     "execution_count": 47,
     "metadata": {},
     "output_type": "execute_result"
    }
   ],
   "source": [
    "#After Transformation\n",
    "ACSmarry['WORK_SOC'].value_counts(sort=True)"
   ]
  },
  {
   "cell_type": "code",
   "execution_count": 48,
   "metadata": {},
   "outputs": [
    {
     "name": "stderr",
     "output_type": "stream",
     "text": [
      "C:\\Users\\steph\\Anaconda3\\lib\\site-packages\\ipykernel_launcher.py:3: SettingWithCopyWarning: \n",
      "A value is trying to be set on a copy of a slice from a DataFrame.\n",
      "Try using .loc[row_indexer,col_indexer] = value instead\n",
      "\n",
      "See the caveats in the documentation: http://pandas.pydata.org/pandas-docs/stable/indexing.html#indexing-view-versus-copy\n",
      "  This is separate from the ipykernel package so we can avoid doing imports until\n"
     ]
    }
   ],
   "source": [
    "#SEX: Transforming to 0/1\n",
    "# Female = 0; Male =1\n",
    "ACSmarry['SEX_T'] = ACSmarry['SEX']\n",
    "ACSmarry.loc[(ACSmarry.SEX_T ==2),'SEX_T'] = 0"
   ]
  },
  {
   "cell_type": "code",
   "execution_count": 49,
   "metadata": {},
   "outputs": [
    {
     "data": {
      "text/plain": [
       "0    1307012\n",
       "1    1223714\n",
       "Name: SEX_T, dtype: int64"
      ]
     },
     "execution_count": 49,
     "metadata": {},
     "output_type": "execute_result"
    }
   ],
   "source": [
    "#After Transformation\n",
    "ACSmarry['SEX_T'].value_counts(sort=True)"
   ]
  },
  {
   "cell_type": "code",
   "execution_count": 50,
   "metadata": {},
   "outputs": [
    {
     "data": {
      "text/plain": [
       "2    1307012\n",
       "1    1223714\n",
       "Name: SEX, dtype: int64"
      ]
     },
     "execution_count": 50,
     "metadata": {},
     "output_type": "execute_result"
    }
   ],
   "source": [
    "#Before Transformation\n",
    "ACSmarry['SEX'].value_counts(sort=True)"
   ]
  },
  {
   "cell_type": "code",
   "execution_count": 51,
   "metadata": {
    "scrolled": true
   },
   "outputs": [
    {
     "name": "stderr",
     "output_type": "stream",
     "text": [
      "C:\\Users\\steph\\Anaconda3\\lib\\site-packages\\ipykernel_launcher.py:3: SettingWithCopyWarning: \n",
      "A value is trying to be set on a copy of a slice from a DataFrame.\n",
      "Try using .loc[row_indexer,col_indexer] = value instead\n",
      "\n",
      "See the caveats in the documentation: http://pandas.pydata.org/pandas-docs/stable/indexing.html#indexing-view-versus-copy\n",
      "  This is separate from the ipykernel package so we can avoid doing imports until\n"
     ]
    }
   ],
   "source": [
    "#Using ESR to created Employed/Unemployed\n",
    "# Employed: 1,2,4,5 and unemployed 3,6\n",
    "ACSmarry['ESR_T'] = ACSmarry['ESR']\n",
    "ACSmarry.loc[(ACSmarry.ESR == 1)|(ACSmarry.ESR == 2)|(ACSmarry.ESR == 4)|(ACSmarry.ESR ==5),'ESR_T'] = 1\n",
    "ACSmarry.loc[(ACSmarry.ESR == 3)|(ACSmarry.ESR ==6),'ESR_T'] = 0"
   ]
  },
  {
   "cell_type": "code",
   "execution_count": 52,
   "metadata": {},
   "outputs": [
    {
     "data": {
      "text/plain": [
       "1.0    1472599\n",
       "0.0    1058127\n",
       "Name: ESR_T, dtype: int64"
      ]
     },
     "execution_count": 52,
     "metadata": {},
     "output_type": "execute_result"
    }
   ],
   "source": [
    "#After Transformation\n",
    "ACSmarry['ESR_T'].value_counts(sort=True)"
   ]
  },
  {
   "cell_type": "code",
   "execution_count": 53,
   "metadata": {},
   "outputs": [
    {
     "data": {
      "text/plain": [
       "1.0    1432375\n",
       "6.0     985336\n",
       "3.0      72791\n",
       "2.0      29704\n",
       "4.0      10450\n",
       "5.0         70\n",
       "Name: ESR, dtype: int64"
      ]
     },
     "execution_count": 53,
     "metadata": {},
     "output_type": "execute_result"
    }
   ],
   "source": [
    "#Before Transformation\n",
    "ACSmarry['ESR'].value_counts(sort=True)"
   ]
  },
  {
   "cell_type": "code",
   "execution_count": 54,
   "metadata": {},
   "outputs": [
    {
     "name": "stderr",
     "output_type": "stream",
     "text": [
      "C:\\Users\\steph\\Anaconda3\\lib\\site-packages\\ipykernel_launcher.py:3: SettingWithCopyWarning: \n",
      "A value is trying to be set on a copy of a slice from a DataFrame.\n",
      "Try using .loc[row_indexer,col_indexer] = value instead\n",
      "\n",
      "See the caveats in the documentation: http://pandas.pydata.org/pandas-docs/stable/indexing.html#indexing-view-versus-copy\n",
      "  This is separate from the ipykernel package so we can avoid doing imports until\n"
     ]
    }
   ],
   "source": [
    "#Nativity (Transformaing to 0/1)\n",
    "# Foreign = 0; Native = 1\n",
    "ACSmarry['NATIVITY_T'] = ACSmarry['NATIVITY']\n",
    "ACSmarry.loc[(ACSmarry.NATIVITY == 2),'NATIVITY_T'] = 0"
   ]
  },
  {
   "cell_type": "code",
   "execution_count": 55,
   "metadata": {},
   "outputs": [
    {
     "data": {
      "text/plain": [
       "1    2173535\n",
       "0     357191\n",
       "Name: NATIVITY_T, dtype: int64"
      ]
     },
     "execution_count": 55,
     "metadata": {},
     "output_type": "execute_result"
    }
   ],
   "source": [
    "#After Transformation\n",
    "ACSmarry['NATIVITY_T'].value_counts(sort=True)"
   ]
  },
  {
   "cell_type": "code",
   "execution_count": 56,
   "metadata": {},
   "outputs": [
    {
     "data": {
      "text/plain": [
       "1    2173535\n",
       "2     357191\n",
       "Name: NATIVITY, dtype: int64"
      ]
     },
     "execution_count": 56,
     "metadata": {},
     "output_type": "execute_result"
    }
   ],
   "source": [
    "#Before Transformation\n",
    "ACSmarry['NATIVITY'].value_counts(sort=True)"
   ]
  },
  {
   "cell_type": "code",
   "execution_count": 57,
   "metadata": {},
   "outputs": [
    {
     "name": "stderr",
     "output_type": "stream",
     "text": [
      "C:\\Users\\steph\\Anaconda3\\lib\\site-packages\\ipykernel_launcher.py:3: SettingWithCopyWarning: \n",
      "A value is trying to be set on a copy of a slice from a DataFrame.\n",
      "Try using .loc[row_indexer,col_indexer] = value instead\n",
      "\n",
      "See the caveats in the documentation: http://pandas.pydata.org/pandas-docs/stable/indexing.html#indexing-view-versus-copy\n",
      "  This is separate from the ipykernel package so we can avoid doing imports until\n"
     ]
    },
    {
     "data": {
      "text/plain": [
       "1    2313875\n",
       "0     216851\n",
       "Name: HEALTH, dtype: int64"
      ]
     },
     "execution_count": 57,
     "metadata": {},
     "output_type": "execute_result"
    }
   ],
   "source": [
    "#Health insurance(Transformaing to 0/1)\n",
    "\n",
    "ACSmarry['HEALTH'] = ACSmarry['HICOV'] \n",
    "ACSmarry.loc[(ACSmarry.HEALTH == 2),'HEALTH'] = 0 #No health insurance coverage\n",
    "#1 = Health insurance coverage\n",
    "\n",
    "ACSmarry['HEALTH'].value_counts(sort=True)"
   ]
  },
  {
   "cell_type": "code",
   "execution_count": 58,
   "metadata": {},
   "outputs": [
    {
     "name": "stderr",
     "output_type": "stream",
     "text": [
      "C:\\Users\\steph\\Anaconda3\\lib\\site-packages\\ipykernel_launcher.py:3: SettingWithCopyWarning: \n",
      "A value is trying to be set on a copy of a slice from a DataFrame.\n",
      "Try using .loc[row_indexer,col_indexer] = value instead\n",
      "\n",
      "See the caveats in the documentation: http://pandas.pydata.org/pandas-docs/stable/indexing.html#indexing-view-versus-copy\n",
      "  This is separate from the ipykernel package so we can avoid doing imports until\n"
     ]
    },
    {
     "data": {
      "text/plain": [
       "0    2090539\n",
       "1     440187\n",
       "Name: DIS_T, dtype: int64"
      ]
     },
     "execution_count": 58,
     "metadata": {},
     "output_type": "execute_result"
    }
   ],
   "source": [
    "#Disability(Transformaing to 0/1)\n",
    "\n",
    "ACSmarry['DIS_T'] = ACSmarry['DIS'] \n",
    "ACSmarry.loc[(ACSmarry.DIS_T == 2),'DIS_T'] = 0 #No disability\n",
    "#1 = Disability\n",
    "\n",
    "ACSmarry['DIS_T'].value_counts(sort=True)"
   ]
  },
  {
   "cell_type": "markdown",
   "metadata": {},
   "source": [
    "# Recoding Race "
   ]
  },
  {
   "cell_type": "code",
   "execution_count": 59,
   "metadata": {},
   "outputs": [
    {
     "data": {
      "text/plain": [
       "1    1970142\n",
       "2     249048\n",
       "6     138466\n",
       "8      87820\n",
       "9      55103\n",
       "3      21255\n",
       "7       4030\n",
       "5       3329\n",
       "4       1533\n",
       "Name: RAC1P, dtype: int64"
      ]
     },
     "execution_count": 59,
     "metadata": {},
     "output_type": "execute_result"
    }
   ],
   "source": [
    "ACSmarry['RAC1P'].value_counts(sort=True, dropna = False)"
   ]
  },
  {
   "cell_type": "code",
   "execution_count": 60,
   "metadata": {},
   "outputs": [
    {
     "data": {
      "text/plain": [
       "1     2205355\n",
       "2      196338\n",
       "3       31250\n",
       "4       15518\n",
       "24      14015\n",
       "11      12055\n",
       "5       10116\n",
       "16       7898\n",
       "7        7093\n",
       "23       5736\n",
       "8        4476\n",
       "19       4249\n",
       "17       4052\n",
       "9        2824\n",
       "21       2563\n",
       "13       2008\n",
       "10       1397\n",
       "15       1114\n",
       "6         987\n",
       "14        736\n",
       "20        439\n",
       "12        187\n",
       "18        185\n",
       "22        135\n",
       "Name: HISP, dtype: int64"
      ]
     },
     "execution_count": 60,
     "metadata": {},
     "output_type": "execute_result"
    }
   ],
   "source": [
    "ACSmarry['HISP'].value_counts(sort=True, dropna = False)"
   ]
  },
  {
   "cell_type": "code",
   "execution_count": 61,
   "metadata": {},
   "outputs": [
    {
     "data": {
      "text/html": [
       "<div>\n",
       "<style scoped>\n",
       "    .dataframe tbody tr th:only-of-type {\n",
       "        vertical-align: middle;\n",
       "    }\n",
       "\n",
       "    .dataframe tbody tr th {\n",
       "        vertical-align: top;\n",
       "    }\n",
       "\n",
       "    .dataframe thead th {\n",
       "        text-align: right;\n",
       "    }\n",
       "</style>\n",
       "<table border=\"1\" class=\"dataframe\">\n",
       "  <thead>\n",
       "    <tr style=\"text-align: right;\">\n",
       "      <th>RAC1P</th>\n",
       "      <th>1</th>\n",
       "      <th>2</th>\n",
       "      <th>3</th>\n",
       "      <th>4</th>\n",
       "      <th>5</th>\n",
       "      <th>6</th>\n",
       "      <th>7</th>\n",
       "      <th>8</th>\n",
       "      <th>9</th>\n",
       "      <th>All</th>\n",
       "    </tr>\n",
       "    <tr>\n",
       "      <th>HISP</th>\n",
       "      <th></th>\n",
       "      <th></th>\n",
       "      <th></th>\n",
       "      <th></th>\n",
       "      <th></th>\n",
       "      <th></th>\n",
       "      <th></th>\n",
       "      <th></th>\n",
       "      <th></th>\n",
       "      <th></th>\n",
       "    </tr>\n",
       "  </thead>\n",
       "  <tbody>\n",
       "    <tr>\n",
       "      <th>1</th>\n",
       "      <td>1753887</td>\n",
       "      <td>242082</td>\n",
       "      <td>18633</td>\n",
       "      <td>1503</td>\n",
       "      <td>2020</td>\n",
       "      <td>137063</td>\n",
       "      <td>3649</td>\n",
       "      <td>4395</td>\n",
       "      <td>42123</td>\n",
       "      <td>2205355</td>\n",
       "    </tr>\n",
       "    <tr>\n",
       "      <th>2</th>\n",
       "      <td>132530</td>\n",
       "      <td>1284</td>\n",
       "      <td>1803</td>\n",
       "      <td>20</td>\n",
       "      <td>883</td>\n",
       "      <td>621</td>\n",
       "      <td>136</td>\n",
       "      <td>52917</td>\n",
       "      <td>6144</td>\n",
       "      <td>196338</td>\n",
       "    </tr>\n",
       "    <tr>\n",
       "      <th>3</th>\n",
       "      <td>20090</td>\n",
       "      <td>2112</td>\n",
       "      <td>159</td>\n",
       "      <td>0</td>\n",
       "      <td>103</td>\n",
       "      <td>143</td>\n",
       "      <td>92</td>\n",
       "      <td>6567</td>\n",
       "      <td>1984</td>\n",
       "      <td>31250</td>\n",
       "    </tr>\n",
       "    <tr>\n",
       "      <th>4</th>\n",
       "      <td>13727</td>\n",
       "      <td>550</td>\n",
       "      <td>13</td>\n",
       "      <td>1</td>\n",
       "      <td>14</td>\n",
       "      <td>50</td>\n",
       "      <td>16</td>\n",
       "      <td>759</td>\n",
       "      <td>388</td>\n",
       "      <td>15518</td>\n",
       "    </tr>\n",
       "    <tr>\n",
       "      <th>5</th>\n",
       "      <td>3885</td>\n",
       "      <td>1445</td>\n",
       "      <td>21</td>\n",
       "      <td>0</td>\n",
       "      <td>25</td>\n",
       "      <td>16</td>\n",
       "      <td>6</td>\n",
       "      <td>3976</td>\n",
       "      <td>742</td>\n",
       "      <td>10116</td>\n",
       "    </tr>\n",
       "    <tr>\n",
       "      <th>6</th>\n",
       "      <td>687</td>\n",
       "      <td>47</td>\n",
       "      <td>4</td>\n",
       "      <td>0</td>\n",
       "      <td>2</td>\n",
       "      <td>7</td>\n",
       "      <td>3</td>\n",
       "      <td>201</td>\n",
       "      <td>36</td>\n",
       "      <td>987</td>\n",
       "    </tr>\n",
       "    <tr>\n",
       "      <th>7</th>\n",
       "      <td>3681</td>\n",
       "      <td>63</td>\n",
       "      <td>130</td>\n",
       "      <td>0</td>\n",
       "      <td>23</td>\n",
       "      <td>16</td>\n",
       "      <td>23</td>\n",
       "      <td>2905</td>\n",
       "      <td>252</td>\n",
       "      <td>7093</td>\n",
       "    </tr>\n",
       "    <tr>\n",
       "      <th>8</th>\n",
       "      <td>2597</td>\n",
       "      <td>210</td>\n",
       "      <td>18</td>\n",
       "      <td>0</td>\n",
       "      <td>17</td>\n",
       "      <td>9</td>\n",
       "      <td>4</td>\n",
       "      <td>1465</td>\n",
       "      <td>156</td>\n",
       "      <td>4476</td>\n",
       "    </tr>\n",
       "    <tr>\n",
       "      <th>9</th>\n",
       "      <td>1887</td>\n",
       "      <td>49</td>\n",
       "      <td>18</td>\n",
       "      <td>0</td>\n",
       "      <td>6</td>\n",
       "      <td>28</td>\n",
       "      <td>1</td>\n",
       "      <td>712</td>\n",
       "      <td>123</td>\n",
       "      <td>2824</td>\n",
       "    </tr>\n",
       "    <tr>\n",
       "      <th>10</th>\n",
       "      <td>545</td>\n",
       "      <td>438</td>\n",
       "      <td>8</td>\n",
       "      <td>0</td>\n",
       "      <td>0</td>\n",
       "      <td>15</td>\n",
       "      <td>1</td>\n",
       "      <td>242</td>\n",
       "      <td>148</td>\n",
       "      <td>1397</td>\n",
       "    </tr>\n",
       "    <tr>\n",
       "      <th>11</th>\n",
       "      <td>6292</td>\n",
       "      <td>99</td>\n",
       "      <td>68</td>\n",
       "      <td>0</td>\n",
       "      <td>57</td>\n",
       "      <td>24</td>\n",
       "      <td>3</td>\n",
       "      <td>5061</td>\n",
       "      <td>451</td>\n",
       "      <td>12055</td>\n",
       "    </tr>\n",
       "    <tr>\n",
       "      <th>12</th>\n",
       "      <td>82</td>\n",
       "      <td>14</td>\n",
       "      <td>4</td>\n",
       "      <td>0</td>\n",
       "      <td>0</td>\n",
       "      <td>0</td>\n",
       "      <td>0</td>\n",
       "      <td>67</td>\n",
       "      <td>20</td>\n",
       "      <td>187</td>\n",
       "    </tr>\n",
       "    <tr>\n",
       "      <th>13</th>\n",
       "      <td>1771</td>\n",
       "      <td>7</td>\n",
       "      <td>3</td>\n",
       "      <td>1</td>\n",
       "      <td>0</td>\n",
       "      <td>8</td>\n",
       "      <td>0</td>\n",
       "      <td>150</td>\n",
       "      <td>68</td>\n",
       "      <td>2008</td>\n",
       "    </tr>\n",
       "    <tr>\n",
       "      <th>14</th>\n",
       "      <td>521</td>\n",
       "      <td>6</td>\n",
       "      <td>10</td>\n",
       "      <td>0</td>\n",
       "      <td>0</td>\n",
       "      <td>5</td>\n",
       "      <td>0</td>\n",
       "      <td>174</td>\n",
       "      <td>20</td>\n",
       "      <td>736</td>\n",
       "    </tr>\n",
       "    <tr>\n",
       "      <th>15</th>\n",
       "      <td>903</td>\n",
       "      <td>2</td>\n",
       "      <td>4</td>\n",
       "      <td>0</td>\n",
       "      <td>0</td>\n",
       "      <td>2</td>\n",
       "      <td>1</td>\n",
       "      <td>150</td>\n",
       "      <td>52</td>\n",
       "      <td>1114</td>\n",
       "    </tr>\n",
       "    <tr>\n",
       "      <th>16</th>\n",
       "      <td>5983</td>\n",
       "      <td>107</td>\n",
       "      <td>20</td>\n",
       "      <td>4</td>\n",
       "      <td>12</td>\n",
       "      <td>12</td>\n",
       "      <td>8</td>\n",
       "      <td>1442</td>\n",
       "      <td>310</td>\n",
       "      <td>7898</td>\n",
       "    </tr>\n",
       "    <tr>\n",
       "      <th>17</th>\n",
       "      <td>2395</td>\n",
       "      <td>48</td>\n",
       "      <td>15</td>\n",
       "      <td>0</td>\n",
       "      <td>17</td>\n",
       "      <td>15</td>\n",
       "      <td>1</td>\n",
       "      <td>1426</td>\n",
       "      <td>135</td>\n",
       "      <td>4052</td>\n",
       "    </tr>\n",
       "    <tr>\n",
       "      <th>18</th>\n",
       "      <td>144</td>\n",
       "      <td>0</td>\n",
       "      <td>5</td>\n",
       "      <td>0</td>\n",
       "      <td>0</td>\n",
       "      <td>0</td>\n",
       "      <td>0</td>\n",
       "      <td>28</td>\n",
       "      <td>8</td>\n",
       "      <td>185</td>\n",
       "    </tr>\n",
       "    <tr>\n",
       "      <th>19</th>\n",
       "      <td>2535</td>\n",
       "      <td>35</td>\n",
       "      <td>58</td>\n",
       "      <td>0</td>\n",
       "      <td>13</td>\n",
       "      <td>51</td>\n",
       "      <td>0</td>\n",
       "      <td>1305</td>\n",
       "      <td>252</td>\n",
       "      <td>4249</td>\n",
       "    </tr>\n",
       "    <tr>\n",
       "      <th>20</th>\n",
       "      <td>389</td>\n",
       "      <td>1</td>\n",
       "      <td>0</td>\n",
       "      <td>0</td>\n",
       "      <td>0</td>\n",
       "      <td>0</td>\n",
       "      <td>0</td>\n",
       "      <td>33</td>\n",
       "      <td>16</td>\n",
       "      <td>439</td>\n",
       "    </tr>\n",
       "    <tr>\n",
       "      <th>21</th>\n",
       "      <td>2034</td>\n",
       "      <td>58</td>\n",
       "      <td>2</td>\n",
       "      <td>0</td>\n",
       "      <td>4</td>\n",
       "      <td>9</td>\n",
       "      <td>0</td>\n",
       "      <td>362</td>\n",
       "      <td>94</td>\n",
       "      <td>2563</td>\n",
       "    </tr>\n",
       "    <tr>\n",
       "      <th>22</th>\n",
       "      <td>56</td>\n",
       "      <td>5</td>\n",
       "      <td>3</td>\n",
       "      <td>0</td>\n",
       "      <td>1</td>\n",
       "      <td>3</td>\n",
       "      <td>0</td>\n",
       "      <td>45</td>\n",
       "      <td>22</td>\n",
       "      <td>135</td>\n",
       "    </tr>\n",
       "    <tr>\n",
       "      <th>23</th>\n",
       "      <td>4489</td>\n",
       "      <td>57</td>\n",
       "      <td>80</td>\n",
       "      <td>1</td>\n",
       "      <td>16</td>\n",
       "      <td>105</td>\n",
       "      <td>21</td>\n",
       "      <td>422</td>\n",
       "      <td>545</td>\n",
       "      <td>5736</td>\n",
       "    </tr>\n",
       "    <tr>\n",
       "      <th>24</th>\n",
       "      <td>9032</td>\n",
       "      <td>329</td>\n",
       "      <td>176</td>\n",
       "      <td>3</td>\n",
       "      <td>116</td>\n",
       "      <td>264</td>\n",
       "      <td>65</td>\n",
       "      <td>3016</td>\n",
       "      <td>1014</td>\n",
       "      <td>14015</td>\n",
       "    </tr>\n",
       "    <tr>\n",
       "      <th>All</th>\n",
       "      <td>1970142</td>\n",
       "      <td>249048</td>\n",
       "      <td>21255</td>\n",
       "      <td>1533</td>\n",
       "      <td>3329</td>\n",
       "      <td>138466</td>\n",
       "      <td>4030</td>\n",
       "      <td>87820</td>\n",
       "      <td>55103</td>\n",
       "      <td>2530726</td>\n",
       "    </tr>\n",
       "  </tbody>\n",
       "</table>\n",
       "</div>"
      ],
      "text/plain": [
       "RAC1P        1       2      3     4     5       6     7      8      9      All\n",
       "HISP                                                                          \n",
       "1      1753887  242082  18633  1503  2020  137063  3649   4395  42123  2205355\n",
       "2       132530    1284   1803    20   883     621   136  52917   6144   196338\n",
       "3        20090    2112    159     0   103     143    92   6567   1984    31250\n",
       "4        13727     550     13     1    14      50    16    759    388    15518\n",
       "5         3885    1445     21     0    25      16     6   3976    742    10116\n",
       "6          687      47      4     0     2       7     3    201     36      987\n",
       "7         3681      63    130     0    23      16    23   2905    252     7093\n",
       "8         2597     210     18     0    17       9     4   1465    156     4476\n",
       "9         1887      49     18     0     6      28     1    712    123     2824\n",
       "10         545     438      8     0     0      15     1    242    148     1397\n",
       "11        6292      99     68     0    57      24     3   5061    451    12055\n",
       "12          82      14      4     0     0       0     0     67     20      187\n",
       "13        1771       7      3     1     0       8     0    150     68     2008\n",
       "14         521       6     10     0     0       5     0    174     20      736\n",
       "15         903       2      4     0     0       2     1    150     52     1114\n",
       "16        5983     107     20     4    12      12     8   1442    310     7898\n",
       "17        2395      48     15     0    17      15     1   1426    135     4052\n",
       "18         144       0      5     0     0       0     0     28      8      185\n",
       "19        2535      35     58     0    13      51     0   1305    252     4249\n",
       "20         389       1      0     0     0       0     0     33     16      439\n",
       "21        2034      58      2     0     4       9     0    362     94     2563\n",
       "22          56       5      3     0     1       3     0     45     22      135\n",
       "23        4489      57     80     1    16     105    21    422    545     5736\n",
       "24        9032     329    176     3   116     264    65   3016   1014    14015\n",
       "All    1970142  249048  21255  1533  3329  138466  4030  87820  55103  2530726"
      ]
     },
     "execution_count": 61,
     "metadata": {},
     "output_type": "execute_result"
    }
   ],
   "source": [
    "pd.crosstab(ACSmarry.HISP, ACSmarry.RAC1P, margins=True)"
   ]
  },
  {
   "cell_type": "code",
   "execution_count": 62,
   "metadata": {},
   "outputs": [
    {
     "name": "stderr",
     "output_type": "stream",
     "text": [
      "C:\\Users\\steph\\Anaconda3\\lib\\site-packages\\ipykernel_launcher.py:2: SettingWithCopyWarning: \n",
      "A value is trying to be set on a copy of a slice from a DataFrame.\n",
      "Try using .loc[row_indexer,col_indexer] = value instead\n",
      "\n",
      "See the caveats in the documentation: http://pandas.pydata.org/pandas-docs/stable/indexing.html#indexing-view-versus-copy\n",
      "  \n",
      "C:\\Users\\steph\\Anaconda3\\lib\\site-packages\\ipykernel_launcher.py:5: SettingWithCopyWarning: \n",
      "A value is trying to be set on a copy of a slice from a DataFrame.\n",
      "Try using .loc[row_indexer,col_indexer] = value instead\n",
      "\n",
      "See the caveats in the documentation: http://pandas.pydata.org/pandas-docs/stable/indexing.html#indexing-view-versus-copy\n",
      "  \"\"\"\n",
      "C:\\Users\\steph\\Anaconda3\\lib\\site-packages\\ipykernel_launcher.py:8: SettingWithCopyWarning: \n",
      "A value is trying to be set on a copy of a slice from a DataFrame.\n",
      "Try using .loc[row_indexer,col_indexer] = value instead\n",
      "\n",
      "See the caveats in the documentation: http://pandas.pydata.org/pandas-docs/stable/indexing.html#indexing-view-versus-copy\n",
      "  \n",
      "C:\\Users\\steph\\Anaconda3\\lib\\site-packages\\ipykernel_launcher.py:11: SettingWithCopyWarning: \n",
      "A value is trying to be set on a copy of a slice from a DataFrame.\n",
      "Try using .loc[row_indexer,col_indexer] = value instead\n",
      "\n",
      "See the caveats in the documentation: http://pandas.pydata.org/pandas-docs/stable/indexing.html#indexing-view-versus-copy\n",
      "  # This is added back by InteractiveShellApp.init_path()\n",
      "C:\\Users\\steph\\Anaconda3\\lib\\site-packages\\ipykernel_launcher.py:14: SettingWithCopyWarning: \n",
      "A value is trying to be set on a copy of a slice from a DataFrame.\n",
      "Try using .loc[row_indexer,col_indexer] = value instead\n",
      "\n",
      "See the caveats in the documentation: http://pandas.pydata.org/pandas-docs/stable/indexing.html#indexing-view-versus-copy\n",
      "  \n",
      "C:\\Users\\steph\\Anaconda3\\lib\\site-packages\\ipykernel_launcher.py:17: SettingWithCopyWarning: \n",
      "A value is trying to be set on a copy of a slice from a DataFrame.\n",
      "Try using .loc[row_indexer,col_indexer] = value instead\n",
      "\n",
      "See the caveats in the documentation: http://pandas.pydata.org/pandas-docs/stable/indexing.html#indexing-view-versus-copy\n"
     ]
    }
   ],
   "source": [
    "#Creating Race categories\n",
    "ACSmarry['HISPANIC'] = 0\n",
    "ACSmarry.loc[(ACSmarry.HISP > 1), 'HISPANIC'] = 1 #Hispanic = 1, else 0\n",
    "             \n",
    "ACSmarry['WHITE'] = 0\n",
    "ACSmarry.loc[(ACSmarry.HISP ==1) & (ACSmarry.RAC1P == 1), 'WHITE'] = 1 #White= 1, else 0 \n",
    "             \n",
    "ACSmarry['BLACK'] = 0\n",
    "ACSmarry.loc[(ACSmarry.HISP ==1) & (ACSmarry.RAC1P == 2), 'BLACK'] = 1 #Black= 1, else 0 \n",
    "\n",
    "ACSmarry['INDIAN'] = 0\n",
    "ACSmarry.loc[(ACSmarry.HISP ==1) & ((ACSmarry.RAC1P == 3) | (ACSmarry.RAC1P == 4) | (ACSmarry.RAC1P == 5)), 'INDIAN'] = 1 #NativeAmerican/Alaskan= 1, else 0 \n",
    "\n",
    "ACSmarry['ASIAN'] = 0\n",
    "ACSmarry.loc[(ACSmarry.HISP ==1) & ((ACSmarry.RAC1P == 6) | (ACSmarry.RAC1P == 7)), 'ASIAN'] = 1 #Asian/PacificIslander= 1, else 0 \n",
    "\n",
    "ACSmarry['OTHER'] = 0\n",
    "ACSmarry.loc[(ACSmarry.HISP ==1) & ((ACSmarry.RAC1P == 8) | (ACSmarry.RAC1P == 9)), 'OTHER'] = 1 #Other/TwoOrMore= 1, else 0 \n",
    "\n"
   ]
  },
  {
   "cell_type": "code",
   "execution_count": 63,
   "metadata": {},
   "outputs": [
    {
     "data": {
      "text/plain": [
       "0    2205355\n",
       "1     325371\n",
       "Name: HISPANIC, dtype: int64"
      ]
     },
     "execution_count": 63,
     "metadata": {},
     "output_type": "execute_result"
    }
   ],
   "source": [
    "ACSmarry['HISPANIC'].value_counts (dropna = False)"
   ]
  },
  {
   "cell_type": "code",
   "execution_count": 64,
   "metadata": {},
   "outputs": [
    {
     "data": {
      "text/plain": [
       "1    1753887\n",
       "0     776839\n",
       "Name: WHITE, dtype: int64"
      ]
     },
     "execution_count": 64,
     "metadata": {},
     "output_type": "execute_result"
    }
   ],
   "source": [
    "ACSmarry['WHITE'].value_counts (dropna = False)"
   ]
  },
  {
   "cell_type": "code",
   "execution_count": 65,
   "metadata": {},
   "outputs": [
    {
     "data": {
      "text/plain": [
       "0    2288644\n",
       "1     242082\n",
       "Name: BLACK, dtype: int64"
      ]
     },
     "execution_count": 65,
     "metadata": {},
     "output_type": "execute_result"
    }
   ],
   "source": [
    "ACSmarry['BLACK'].value_counts (dropna = False)"
   ]
  },
  {
   "cell_type": "code",
   "execution_count": 66,
   "metadata": {},
   "outputs": [
    {
     "data": {
      "text/plain": [
       "0    2508570\n",
       "1      22156\n",
       "Name: INDIAN, dtype: int64"
      ]
     },
     "execution_count": 66,
     "metadata": {},
     "output_type": "execute_result"
    }
   ],
   "source": [
    "ACSmarry['INDIAN'].value_counts (dropna = False)"
   ]
  },
  {
   "cell_type": "code",
   "execution_count": 67,
   "metadata": {},
   "outputs": [
    {
     "data": {
      "text/plain": [
       "0    2390014\n",
       "1     140712\n",
       "Name: ASIAN, dtype: int64"
      ]
     },
     "execution_count": 67,
     "metadata": {},
     "output_type": "execute_result"
    }
   ],
   "source": [
    "ACSmarry['ASIAN'].value_counts (dropna = False)"
   ]
  },
  {
   "cell_type": "code",
   "execution_count": 68,
   "metadata": {},
   "outputs": [
    {
     "data": {
      "text/plain": [
       "0    2484208\n",
       "1      46518\n",
       "Name: OTHER, dtype: int64"
      ]
     },
     "execution_count": 68,
     "metadata": {},
     "output_type": "execute_result"
    }
   ],
   "source": [
    "ACSmarry['OTHER'].value_counts (dropna = False)"
   ]
  },
  {
   "cell_type": "markdown",
   "metadata": {},
   "source": [
    "# Mak will fix the OCCP code. Currently not working 7/30/2019\n",
    "\n",
    "8/2/2019 -Having trouble running this code in this notebook.  Moved to a second notebook (MarriagePerson-Ingest_Wrangle_Pt2)"
   ]
  },
  {
   "cell_type": "code",
   "execution_count": 69,
   "metadata": {},
   "outputs": [],
   "source": [
    "# Job Code Transformation function\n",
    "#input must be interger data type \n",
    "\n",
    "# Job Code Transformation function\n",
    "#input must be interger data type \n",
    "\n",
    "# def jobid_to_jobclass(occp):\n",
    "#     try:\n",
    "# #     try: \n",
    "        \n",
    "# #         occp = int_math(occp)\n",
    "# #         print(occp)\n",
    "# # #         split_num = str(occp).split('.')\n",
    "# # #         occp = int(split_num[0])\n",
    "# #     except:\n",
    "# #         return 'UNE'\n",
    "# #     else:\n",
    "\n",
    "#         if (occp >= 10 and occp <= 430):\n",
    "#             jobclass = 'MGR'\n",
    "#         elif occp <= 740:\n",
    "#             jobclass = 'BUS'\n",
    "#         elif occp <= 950:\n",
    "#             jobclass = 'FIN'\n",
    "#         elif occp <= 1240:\n",
    "#             jobclass = 'CMM'\n",
    "#         elif occp <= 1560:\n",
    "#             jobclass = 'ENG'\n",
    "#         elif occp <= 1965:\n",
    "#             jobclass = 'SCI'\n",
    "#         elif occp <= 2060:\n",
    "#             jobclass = 'CMS'\n",
    "#         elif occp <= 2160:\n",
    "#             jobclass = 'LGL'\n",
    "#         elif occp <= 2550:\n",
    "#             jobclass = 'EDU'\n",
    "#         elif occp <= 2920:\n",
    "#             jobclass = 'ENT'\n",
    "#         elif occp <= 1240:\n",
    "#             jobclass = 'CMM'\n",
    "#         elif occp <= 3540:\n",
    "#             jobclass = 'MED'\n",
    "#         elif occp <= 3655:\n",
    "#             jobclass = 'HLS'\n",
    "#         elif occp <= 3955:\n",
    "#             jobclass = 'PRT'\n",
    "#         elif occp <= 4150:\n",
    "#             jobclass = 'EAT'\n",
    "#         elif occp <= 4250:\n",
    "#             jobclass = 'CMM'\n",
    "#         elif occp <= 4650:\n",
    "#             jobclass = 'PRS'\n",
    "#         elif occp <= 4965:\n",
    "#             jobclass = 'SAL'\n",
    "#         elif occp <= 5940:\n",
    "#             jobclass = 'OFF'\n",
    "#         elif occp <= 6130:\n",
    "#             jobclass = 'FFF'\n",
    "#         elif occp <= 6765:\n",
    "#             jobclass = 'CON'\n",
    "#         elif occp <= 6940:\n",
    "#             jobclass = 'EXT'\n",
    "#         elif occp <= 7630:\n",
    "#             jobclass = 'RPR'\n",
    "#         elif occp <= 8965:\n",
    "#             jobclass = 'PRD'\n",
    "#         elif occp <= 9750:\n",
    "#             jobclass = 'TRN'\n",
    "#         elif occp <= 9830:\n",
    "#             jobclass = 'MIL'\n",
    "#         elif occp <= 9920:\n",
    "#             jobclass = 'UNE' \n",
    "#         else:\n",
    "#             jobclass = 'UNE'  \n",
    "            \n",
    "#         return jobclass\n",
    "#     except:\n",
    "#         return 'Error'"
   ]
  },
  {
   "cell_type": "code",
   "execution_count": 70,
   "metadata": {},
   "outputs": [],
   "source": [
    "# def int_math(num):  \n",
    "#     num = math.floor(num)\n",
    "#     return num"
   ]
  },
  {
   "cell_type": "code",
   "execution_count": 71,
   "metadata": {},
   "outputs": [],
   "source": [
    "# #Create List of integers to be converted in 3 Charatacter job code in the next cell\n",
    "# OCCP_int = []\n",
    "# #start = timeit.timeit()\n",
    "# for i in ACSmarry['OCCP']:\n",
    "#     try:\n",
    "#         OCCP_int.append(int_math(i))\n",
    "#     except: \n",
    "#          OCCP_int.append(9999)# if Cell is empty assume Unemployed\n"
   ]
  },
  {
   "cell_type": "code",
   "execution_count": 72,
   "metadata": {},
   "outputs": [],
   "source": [
    "# #Create list of Job Codes of 3 Characters from the list of integers that represent job_id\n",
    "# OCCP_list = []\n",
    "# for i in OCCP_int:\n",
    "#     try:\n",
    "#         OCCP_list.append(jobid_to_jobclass(i))\n",
    "#     except: \n",
    "#          OCCP_list.append(0)\n",
    "# #print(OCCP_list)\n",
    "# ACSmarry['OCCP_T'] = pd.DataFrame(OCCP_list)"
   ]
  },
  {
   "cell_type": "code",
   "execution_count": 73,
   "metadata": {},
   "outputs": [],
   "source": [
    "# OCCP_T = []\n",
    "# for i in ACSdata['OCCP']:\n",
    "#     try:\n",
    "#         OCCP_T.append(jobid_to_jobclass(i))\n",
    "#     except: \n",
    "#          OCCP_T.append('UNE')\n",
    "#     else:\n",
    "#         ACSmarry['OCCP_T']= pd.DataFrame(OCCP_T)"
   ]
  },
  {
   "cell_type": "code",
   "execution_count": 74,
   "metadata": {},
   "outputs": [],
   "source": [
    "# ACSmarry['OCCP_T'].value_counts(sort=True)"
   ]
  },
  {
   "cell_type": "code",
   "execution_count": 75,
   "metadata": {},
   "outputs": [],
   "source": [
    "#Exporting ACSmarry to csv\n",
    "#ACSmarry.to_csv(r'data/ACSmarry.csv')\n",
    "ACSmarry.to_csv(r'data/ACSmarry.csv') #version 2"
   ]
  },
  {
   "cell_type": "code",
   "execution_count": 76,
   "metadata": {},
   "outputs": [],
   "source": [
    "#End Of Code"
   ]
  }
 ],
 "metadata": {
  "kernelspec": {
   "display_name": "Python 3",
   "language": "python",
   "name": "python3"
  },
  "language_info": {
   "codemirror_mode": {
    "name": "ipython",
    "version": 3
   },
   "file_extension": ".py",
   "mimetype": "text/x-python",
   "name": "python",
   "nbconvert_exporter": "python",
   "pygments_lexer": "ipython3",
   "version": "3.7.3"
  }
 },
 "nbformat": 4,
 "nbformat_minor": 2
}
